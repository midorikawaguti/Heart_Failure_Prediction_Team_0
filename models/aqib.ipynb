{
 "cells": [
  {
   "cell_type": "code",
   "execution_count": 278,
   "metadata": {},
   "outputs": [],
   "source": [
    "import pandas as pd\n",
    "import numpy as np\n",
    "import matplotlib.pyplot as plt\n",
    "%matplotlib inline\n",
    "import seaborn as sns\n",
    "pd.options.display.float_format = '{:.2f}'.format\n",
    "import warnings\n",
    "warnings.filterwarnings('ignore')\n",
    "import plotly.express as px"
   ]
  },
  {
   "cell_type": "code",
   "execution_count": 279,
   "metadata": {},
   "outputs": [
    {
     "data": {
      "text/html": [
       "<div>\n",
       "<style scoped>\n",
       "    .dataframe tbody tr th:only-of-type {\n",
       "        vertical-align: middle;\n",
       "    }\n",
       "\n",
       "    .dataframe tbody tr th {\n",
       "        vertical-align: top;\n",
       "    }\n",
       "\n",
       "    .dataframe thead th {\n",
       "        text-align: right;\n",
       "    }\n",
       "</style>\n",
       "<table border=\"1\" class=\"dataframe\">\n",
       "  <thead>\n",
       "    <tr style=\"text-align: right;\">\n",
       "      <th></th>\n",
       "      <th>Age</th>\n",
       "      <th>Sex</th>\n",
       "      <th>ChestPainType</th>\n",
       "      <th>RestingBP</th>\n",
       "      <th>Cholesterol</th>\n",
       "      <th>FastingBS</th>\n",
       "      <th>RestingECG</th>\n",
       "      <th>MaxHR</th>\n",
       "      <th>ExerciseAngina</th>\n",
       "      <th>Oldpeak</th>\n",
       "      <th>ST_Slope</th>\n",
       "      <th>HeartDisease</th>\n",
       "    </tr>\n",
       "  </thead>\n",
       "  <tbody>\n",
       "    <tr>\n",
       "      <th>0</th>\n",
       "      <td>40</td>\n",
       "      <td>M</td>\n",
       "      <td>ATA</td>\n",
       "      <td>140</td>\n",
       "      <td>289</td>\n",
       "      <td>0</td>\n",
       "      <td>Normal</td>\n",
       "      <td>172</td>\n",
       "      <td>N</td>\n",
       "      <td>0.00</td>\n",
       "      <td>Up</td>\n",
       "      <td>0</td>\n",
       "    </tr>\n",
       "    <tr>\n",
       "      <th>1</th>\n",
       "      <td>49</td>\n",
       "      <td>F</td>\n",
       "      <td>NAP</td>\n",
       "      <td>160</td>\n",
       "      <td>180</td>\n",
       "      <td>0</td>\n",
       "      <td>Normal</td>\n",
       "      <td>156</td>\n",
       "      <td>N</td>\n",
       "      <td>1.00</td>\n",
       "      <td>Flat</td>\n",
       "      <td>1</td>\n",
       "    </tr>\n",
       "    <tr>\n",
       "      <th>2</th>\n",
       "      <td>37</td>\n",
       "      <td>M</td>\n",
       "      <td>ATA</td>\n",
       "      <td>130</td>\n",
       "      <td>283</td>\n",
       "      <td>0</td>\n",
       "      <td>ST</td>\n",
       "      <td>98</td>\n",
       "      <td>N</td>\n",
       "      <td>0.00</td>\n",
       "      <td>Up</td>\n",
       "      <td>0</td>\n",
       "    </tr>\n",
       "    <tr>\n",
       "      <th>3</th>\n",
       "      <td>48</td>\n",
       "      <td>F</td>\n",
       "      <td>ASY</td>\n",
       "      <td>138</td>\n",
       "      <td>214</td>\n",
       "      <td>0</td>\n",
       "      <td>Normal</td>\n",
       "      <td>108</td>\n",
       "      <td>Y</td>\n",
       "      <td>1.50</td>\n",
       "      <td>Flat</td>\n",
       "      <td>1</td>\n",
       "    </tr>\n",
       "    <tr>\n",
       "      <th>4</th>\n",
       "      <td>54</td>\n",
       "      <td>M</td>\n",
       "      <td>NAP</td>\n",
       "      <td>150</td>\n",
       "      <td>195</td>\n",
       "      <td>0</td>\n",
       "      <td>Normal</td>\n",
       "      <td>122</td>\n",
       "      <td>N</td>\n",
       "      <td>0.00</td>\n",
       "      <td>Up</td>\n",
       "      <td>0</td>\n",
       "    </tr>\n",
       "  </tbody>\n",
       "</table>\n",
       "</div>"
      ],
      "text/plain": [
       "   Age Sex ChestPainType  RestingBP  Cholesterol  FastingBS RestingECG  MaxHR  \\\n",
       "0   40   M           ATA        140          289          0     Normal    172   \n",
       "1   49   F           NAP        160          180          0     Normal    156   \n",
       "2   37   M           ATA        130          283          0         ST     98   \n",
       "3   48   F           ASY        138          214          0     Normal    108   \n",
       "4   54   M           NAP        150          195          0     Normal    122   \n",
       "\n",
       "  ExerciseAngina  Oldpeak ST_Slope  HeartDisease  \n",
       "0              N     0.00       Up             0  \n",
       "1              N     1.00     Flat             1  \n",
       "2              N     0.00       Up             0  \n",
       "3              Y     1.50     Flat             1  \n",
       "4              N     0.00       Up             0  "
      ]
     },
     "execution_count": 279,
     "metadata": {},
     "output_type": "execute_result"
    }
   ],
   "source": [
    "df = pd.read_csv(\"~/Desktop/Assignment/Heart_Failure_Prediction_Team_0/data/raw/heart.csv\")\n",
    "df.head()\n"
   ]
  },
  {
   "cell_type": "code",
   "execution_count": 280,
   "metadata": {},
   "outputs": [
    {
     "data": {
      "text/plain": [
       "Index(['Age', 'Sex', 'ChestPainType', 'RestingBP', 'Cholesterol', 'FastingBS',\n",
       "       'RestingECG', 'MaxHR', 'ExerciseAngina', 'Oldpeak', 'ST_Slope',\n",
       "       'HeartDisease'],\n",
       "      dtype='object')"
      ]
     },
     "execution_count": 280,
     "metadata": {},
     "output_type": "execute_result"
    }
   ],
   "source": [
    "df.columns\n"
   ]
  },
  {
   "cell_type": "code",
   "execution_count": 281,
   "metadata": {},
   "outputs": [
    {
     "name": "stdout",
     "output_type": "stream",
     "text": [
      "Categorical Features : Sex ChestPainType FastingBS RestingECG ExerciseAngina ST_Slope HeartDisease\n",
      "Numerical Features : Age RestingBP Cholesterol MaxHR Oldpeak\n"
     ]
    }
   ],
   "source": [
    "col = list(df.columns)\n",
    "categorical_features = []\n",
    "numerical_features = []\n",
    "for i in col:\n",
    "    if len(df[i].unique()) > 6:\n",
    "        numerical_features.append(i)\n",
    "    else:\n",
    "        categorical_features.append(i)\n",
    "\n",
    "print('Categorical Features :',*categorical_features)\n",
    "print('Numerical Features :',*numerical_features)"
   ]
  },
  {
   "cell_type": "code",
   "execution_count": 282,
   "metadata": {},
   "outputs": [
    {
     "name": "stdout",
     "output_type": "stream",
     "text": [
      "<class 'pandas.core.frame.DataFrame'>\n",
      "RangeIndex: 918 entries, 0 to 917\n",
      "Data columns (total 12 columns):\n",
      " #   Column          Non-Null Count  Dtype  \n",
      "---  ------          --------------  -----  \n",
      " 0   Age             918 non-null    int64  \n",
      " 1   Sex             918 non-null    object \n",
      " 2   ChestPainType   918 non-null    object \n",
      " 3   RestingBP       918 non-null    int64  \n",
      " 4   Cholesterol     918 non-null    int64  \n",
      " 5   FastingBS       918 non-null    int64  \n",
      " 6   RestingECG      918 non-null    object \n",
      " 7   MaxHR           918 non-null    int64  \n",
      " 8   ExerciseAngina  918 non-null    object \n",
      " 9   Oldpeak         918 non-null    float64\n",
      " 10  ST_Slope        918 non-null    object \n",
      " 11  HeartDisease    918 non-null    int64  \n",
      "dtypes: float64(1), int64(6), object(5)\n",
      "memory usage: 86.2+ KB\n"
     ]
    }
   ],
   "source": [
    "df.info()"
   ]
  },
  {
   "cell_type": "code",
   "execution_count": 283,
   "metadata": {},
   "outputs": [
    {
     "data": {
      "application/vnd.plotly.v1+json": {
       "config": {
        "plotlyServerURL": "https://plot.ly"
       },
       "data": [
        {
         "customdata": [
          [
           "M"
          ],
          [
           "F"
          ],
          [
           "M"
          ],
          [
           "F"
          ],
          [
           "M"
          ],
          [
           "M"
          ],
          [
           "F"
          ],
          [
           "M"
          ],
          [
           "M"
          ],
          [
           "F"
          ],
          [
           "F"
          ],
          [
           "M"
          ],
          [
           "M"
          ],
          [
           "M"
          ],
          [
           "F"
          ],
          [
           "F"
          ],
          [
           "M"
          ],
          [
           "F"
          ],
          [
           "M"
          ],
          [
           "M"
          ],
          [
           "F"
          ],
          [
           "M"
          ],
          [
           "F"
          ],
          [
           "M"
          ],
          [
           "M"
          ],
          [
           "M"
          ],
          [
           "M"
          ],
          [
           "M"
          ],
          [
           "F"
          ],
          [
           "M"
          ],
          [
           "M"
          ],
          [
           "M"
          ],
          [
           "M"
          ],
          [
           "M"
          ],
          [
           "F"
          ],
          [
           "M"
          ],
          [
           "M"
          ],
          [
           "F"
          ],
          [
           "F"
          ],
          [
           "F"
          ],
          [
           "F"
          ],
          [
           "F"
          ],
          [
           "M"
          ],
          [
           "M"
          ],
          [
           "M"
          ],
          [
           "M"
          ],
          [
           "M"
          ],
          [
           "M"
          ],
          [
           "M"
          ],
          [
           "M"
          ],
          [
           "M"
          ],
          [
           "F"
          ],
          [
           "M"
          ],
          [
           "F"
          ],
          [
           "F"
          ],
          [
           "F"
          ],
          [
           "M"
          ],
          [
           "M"
          ],
          [
           "M"
          ],
          [
           "M"
          ],
          [
           "M"
          ],
          [
           "F"
          ],
          [
           "M"
          ],
          [
           "M"
          ],
          [
           "F"
          ],
          [
           "F"
          ],
          [
           "F"
          ],
          [
           "M"
          ],
          [
           "M"
          ],
          [
           "M"
          ],
          [
           "M"
          ],
          [
           "M"
          ],
          [
           "M"
          ],
          [
           "F"
          ],
          [
           "M"
          ],
          [
           "M"
          ],
          [
           "M"
          ],
          [
           "F"
          ],
          [
           "M"
          ],
          [
           "M"
          ],
          [
           "M"
          ],
          [
           "M"
          ],
          [
           "M"
          ],
          [
           "M"
          ],
          [
           "M"
          ],
          [
           "M"
          ],
          [
           "M"
          ],
          [
           "F"
          ],
          [
           "M"
          ],
          [
           "M"
          ],
          [
           "F"
          ],
          [
           "M"
          ],
          [
           "F"
          ],
          [
           "M"
          ],
          [
           "F"
          ],
          [
           "M"
          ],
          [
           "M"
          ],
          [
           "M"
          ],
          [
           "M"
          ],
          [
           "M"
          ],
          [
           "M"
          ],
          [
           "M"
          ],
          [
           "F"
          ],
          [
           "M"
          ],
          [
           "M"
          ],
          [
           "M"
          ],
          [
           "F"
          ],
          [
           "M"
          ],
          [
           "M"
          ],
          [
           "M"
          ],
          [
           "F"
          ],
          [
           "M"
          ],
          [
           "M"
          ],
          [
           "M"
          ],
          [
           "F"
          ],
          [
           "F"
          ],
          [
           "M"
          ],
          [
           "F"
          ],
          [
           "F"
          ],
          [
           "M"
          ],
          [
           "F"
          ],
          [
           "F"
          ],
          [
           "M"
          ],
          [
           "F"
          ],
          [
           "M"
          ],
          [
           "M"
          ],
          [
           "F"
          ],
          [
           "F"
          ],
          [
           "F"
          ],
          [
           "M"
          ],
          [
           "M"
          ],
          [
           "M"
          ],
          [
           "M"
          ],
          [
           "M"
          ],
          [
           "F"
          ],
          [
           "M"
          ],
          [
           "F"
          ],
          [
           "M"
          ],
          [
           "M"
          ],
          [
           "M"
          ],
          [
           "M"
          ],
          [
           "M"
          ],
          [
           "M"
          ],
          [
           "M"
          ],
          [
           "F"
          ],
          [
           "M"
          ],
          [
           "M"
          ],
          [
           "F"
          ],
          [
           "M"
          ],
          [
           "M"
          ],
          [
           "M"
          ],
          [
           "M"
          ],
          [
           "M"
          ],
          [
           "M"
          ],
          [
           "M"
          ],
          [
           "M"
          ],
          [
           "M"
          ],
          [
           "M"
          ],
          [
           "M"
          ],
          [
           "M"
          ],
          [
           "M"
          ],
          [
           "M"
          ],
          [
           "M"
          ],
          [
           "M"
          ],
          [
           "F"
          ],
          [
           "M"
          ],
          [
           "M"
          ],
          [
           "M"
          ],
          [
           "M"
          ],
          [
           "M"
          ],
          [
           "M"
          ],
          [
           "M"
          ],
          [
           "M"
          ],
          [
           "M"
          ],
          [
           "M"
          ],
          [
           "M"
          ],
          [
           "M"
          ],
          [
           "M"
          ],
          [
           "M"
          ],
          [
           "F"
          ],
          [
           "M"
          ],
          [
           "M"
          ],
          [
           "M"
          ],
          [
           "M"
          ],
          [
           "F"
          ],
          [
           "M"
          ],
          [
           "M"
          ],
          [
           "M"
          ],
          [
           "F"
          ],
          [
           "M"
          ],
          [
           "M"
          ],
          [
           "M"
          ],
          [
           "M"
          ],
          [
           "M"
          ],
          [
           "F"
          ],
          [
           "F"
          ],
          [
           "M"
          ],
          [
           "M"
          ],
          [
           "M"
          ],
          [
           "F"
          ],
          [
           "M"
          ],
          [
           "M"
          ],
          [
           "M"
          ],
          [
           "F"
          ],
          [
           "M"
          ],
          [
           "M"
          ],
          [
           "M"
          ],
          [
           "M"
          ],
          [
           "M"
          ],
          [
           "M"
          ],
          [
           "M"
          ],
          [
           "F"
          ],
          [
           "M"
          ],
          [
           "F"
          ],
          [
           "M"
          ],
          [
           "F"
          ],
          [
           "M"
          ],
          [
           "M"
          ],
          [
           "M"
          ],
          [
           "M"
          ],
          [
           "M"
          ],
          [
           "F"
          ],
          [
           "F"
          ],
          [
           "M"
          ],
          [
           "M"
          ],
          [
           "M"
          ],
          [
           "M"
          ],
          [
           "M"
          ],
          [
           "M"
          ],
          [
           "F"
          ],
          [
           "M"
          ],
          [
           "M"
          ],
          [
           "F"
          ],
          [
           "M"
          ],
          [
           "F"
          ],
          [
           "M"
          ],
          [
           "M"
          ],
          [
           "M"
          ],
          [
           "M"
          ],
          [
           "M"
          ],
          [
           "M"
          ],
          [
           "M"
          ],
          [
           "M"
          ],
          [
           "F"
          ],
          [
           "M"
          ],
          [
           "M"
          ],
          [
           "M"
          ],
          [
           "M"
          ],
          [
           "M"
          ],
          [
           "M"
          ],
          [
           "M"
          ],
          [
           "M"
          ],
          [
           "M"
          ],
          [
           "M"
          ],
          [
           "M"
          ],
          [
           "F"
          ],
          [
           "F"
          ],
          [
           "M"
          ],
          [
           "F"
          ],
          [
           "F"
          ],
          [
           "M"
          ],
          [
           "F"
          ],
          [
           "M"
          ],
          [
           "M"
          ],
          [
           "M"
          ],
          [
           "M"
          ],
          [
           "M"
          ],
          [
           "M"
          ],
          [
           "M"
          ],
          [
           "F"
          ],
          [
           "M"
          ],
          [
           "F"
          ],
          [
           "M"
          ],
          [
           "M"
          ],
          [
           "F"
          ],
          [
           "M"
          ],
          [
           "M"
          ],
          [
           "M"
          ],
          [
           "F"
          ],
          [
           "F"
          ],
          [
           "M"
          ],
          [
           "M"
          ],
          [
           "F"
          ],
          [
           "F"
          ],
          [
           "M"
          ],
          [
           "F"
          ],
          [
           "M"
          ],
          [
           "M"
          ],
          [
           "F"
          ],
          [
           "M"
          ],
          [
           "M"
          ],
          [
           "F"
          ],
          [
           "M"
          ],
          [
           "M"
          ],
          [
           "M"
          ],
          [
           "M"
          ],
          [
           "M"
          ],
          [
           "M"
          ],
          [
           "M"
          ],
          [
           "M"
          ],
          [
           "M"
          ],
          [
           "M"
          ],
          [
           "M"
          ],
          [
           "F"
          ],
          [
           "M"
          ],
          [
           "F"
          ],
          [
           "M"
          ],
          [
           "M"
          ],
          [
           "M"
          ],
          [
           "M"
          ],
          [
           "M"
          ],
          [
           "M"
          ],
          [
           "M"
          ],
          [
           "M"
          ],
          [
           "M"
          ],
          [
           "M"
          ],
          [
           "M"
          ],
          [
           "M"
          ],
          [
           "M"
          ],
          [
           "M"
          ],
          [
           "M"
          ],
          [
           "M"
          ],
          [
           "F"
          ],
          [
           "M"
          ],
          [
           "M"
          ],
          [
           "M"
          ],
          [
           "M"
          ],
          [
           "M"
          ],
          [
           "M"
          ],
          [
           "M"
          ],
          [
           "M"
          ],
          [
           "M"
          ],
          [
           "M"
          ],
          [
           "M"
          ],
          [
           "M"
          ],
          [
           "M"
          ],
          [
           "M"
          ],
          [
           "M"
          ],
          [
           "M"
          ],
          [
           "F"
          ],
          [
           "M"
          ],
          [
           "M"
          ],
          [
           "M"
          ],
          [
           "M"
          ],
          [
           "M"
          ],
          [
           "M"
          ],
          [
           "M"
          ],
          [
           "M"
          ],
          [
           "M"
          ],
          [
           "M"
          ],
          [
           "M"
          ],
          [
           "M"
          ],
          [
           "M"
          ],
          [
           "M"
          ],
          [
           "M"
          ],
          [
           "M"
          ],
          [
           "M"
          ],
          [
           "M"
          ],
          [
           "M"
          ],
          [
           "M"
          ],
          [
           "M"
          ],
          [
           "M"
          ],
          [
           "M"
          ],
          [
           "M"
          ],
          [
           "M"
          ],
          [
           "F"
          ],
          [
           "M"
          ],
          [
           "M"
          ],
          [
           "M"
          ],
          [
           "M"
          ],
          [
           "M"
          ],
          [
           "M"
          ],
          [
           "M"
          ],
          [
           "M"
          ],
          [
           "M"
          ],
          [
           "F"
          ],
          [
           "M"
          ],
          [
           "M"
          ],
          [
           "M"
          ],
          [
           "M"
          ],
          [
           "M"
          ],
          [
           "M"
          ],
          [
           "M"
          ],
          [
           "F"
          ],
          [
           "M"
          ],
          [
           "M"
          ],
          [
           "M"
          ],
          [
           "M"
          ],
          [
           "M"
          ],
          [
           "M"
          ],
          [
           "M"
          ],
          [
           "M"
          ],
          [
           "M"
          ],
          [
           "M"
          ],
          [
           "M"
          ],
          [
           "M"
          ],
          [
           "F"
          ],
          [
           "M"
          ],
          [
           "M"
          ],
          [
           "M"
          ],
          [
           "F"
          ],
          [
           "M"
          ],
          [
           "M"
          ],
          [
           "M"
          ],
          [
           "M"
          ],
          [
           "M"
          ],
          [
           "M"
          ],
          [
           "M"
          ],
          [
           "M"
          ],
          [
           "M"
          ],
          [
           "M"
          ],
          [
           "M"
          ],
          [
           "M"
          ],
          [
           "M"
          ],
          [
           "M"
          ],
          [
           "F"
          ],
          [
           "M"
          ],
          [
           "M"
          ],
          [
           "M"
          ],
          [
           "M"
          ],
          [
           "M"
          ],
          [
           "M"
          ],
          [
           "M"
          ],
          [
           "M"
          ],
          [
           "M"
          ],
          [
           "M"
          ],
          [
           "M"
          ],
          [
           "M"
          ],
          [
           "M"
          ],
          [
           "M"
          ],
          [
           "M"
          ],
          [
           "M"
          ],
          [
           "M"
          ],
          [
           "M"
          ],
          [
           "M"
          ],
          [
           "M"
          ],
          [
           "M"
          ],
          [
           "M"
          ],
          [
           "M"
          ],
          [
           "M"
          ],
          [
           "M"
          ],
          [
           "M"
          ],
          [
           "M"
          ],
          [
           "M"
          ],
          [
           "M"
          ],
          [
           "M"
          ],
          [
           "M"
          ],
          [
           "M"
          ],
          [
           "M"
          ],
          [
           "M"
          ],
          [
           "M"
          ],
          [
           "M"
          ],
          [
           "M"
          ],
          [
           "M"
          ],
          [
           "M"
          ],
          [
           "M"
          ],
          [
           "M"
          ],
          [
           "M"
          ],
          [
           "M"
          ],
          [
           "M"
          ],
          [
           "M"
          ],
          [
           "M"
          ],
          [
           "M"
          ],
          [
           "M"
          ],
          [
           "M"
          ],
          [
           "M"
          ],
          [
           "M"
          ],
          [
           "F"
          ],
          [
           "M"
          ],
          [
           "M"
          ],
          [
           "M"
          ],
          [
           "M"
          ],
          [
           "M"
          ],
          [
           "M"
          ],
          [
           "M"
          ],
          [
           "M"
          ],
          [
           "M"
          ],
          [
           "M"
          ],
          [
           "M"
          ],
          [
           "M"
          ],
          [
           "M"
          ],
          [
           "M"
          ],
          [
           "M"
          ],
          [
           "M"
          ],
          [
           "M"
          ],
          [
           "M"
          ],
          [
           "M"
          ],
          [
           "M"
          ],
          [
           "M"
          ],
          [
           "M"
          ],
          [
           "M"
          ],
          [
           "M"
          ],
          [
           "M"
          ],
          [
           "M"
          ],
          [
           "M"
          ],
          [
           "F"
          ],
          [
           "M"
          ],
          [
           "M"
          ],
          [
           "M"
          ],
          [
           "M"
          ],
          [
           "M"
          ],
          [
           "M"
          ],
          [
           "M"
          ],
          [
           "M"
          ],
          [
           "M"
          ],
          [
           "M"
          ],
          [
           "M"
          ],
          [
           "M"
          ],
          [
           "M"
          ],
          [
           "M"
          ],
          [
           "M"
          ],
          [
           "M"
          ],
          [
           "M"
          ],
          [
           "M"
          ],
          [
           "M"
          ],
          [
           "M"
          ],
          [
           "M"
          ],
          [
           "M"
          ],
          [
           "M"
          ],
          [
           "M"
          ],
          [
           "M"
          ],
          [
           "M"
          ],
          [
           "M"
          ],
          [
           "M"
          ],
          [
           "M"
          ],
          [
           "M"
          ],
          [
           "M"
          ],
          [
           "M"
          ],
          [
           "M"
          ],
          [
           "M"
          ],
          [
           "M"
          ],
          [
           "M"
          ],
          [
           "M"
          ],
          [
           "M"
          ],
          [
           "M"
          ],
          [
           "M"
          ],
          [
           "M"
          ],
          [
           "M"
          ],
          [
           "M"
          ],
          [
           "M"
          ],
          [
           "M"
          ],
          [
           "M"
          ],
          [
           "F"
          ],
          [
           "M"
          ],
          [
           "F"
          ],
          [
           "M"
          ],
          [
           "M"
          ],
          [
           "M"
          ],
          [
           "M"
          ],
          [
           "M"
          ],
          [
           "M"
          ],
          [
           "M"
          ],
          [
           "M"
          ],
          [
           "M"
          ],
          [
           "M"
          ],
          [
           "M"
          ],
          [
           "M"
          ],
          [
           "M"
          ],
          [
           "M"
          ],
          [
           "M"
          ],
          [
           "M"
          ],
          [
           "M"
          ],
          [
           "M"
          ],
          [
           "M"
          ],
          [
           "M"
          ],
          [
           "M"
          ],
          [
           "M"
          ],
          [
           "M"
          ],
          [
           "M"
          ],
          [
           "M"
          ],
          [
           "M"
          ],
          [
           "M"
          ],
          [
           "M"
          ],
          [
           "M"
          ],
          [
           "M"
          ],
          [
           "M"
          ],
          [
           "M"
          ],
          [
           "M"
          ],
          [
           "M"
          ],
          [
           "M"
          ],
          [
           "M"
          ],
          [
           "M"
          ],
          [
           "M"
          ],
          [
           "M"
          ],
          [
           "M"
          ],
          [
           "M"
          ],
          [
           "M"
          ],
          [
           "M"
          ],
          [
           "M"
          ],
          [
           "M"
          ],
          [
           "M"
          ],
          [
           "M"
          ],
          [
           "M"
          ],
          [
           "M"
          ],
          [
           "M"
          ],
          [
           "M"
          ],
          [
           "M"
          ],
          [
           "M"
          ],
          [
           "M"
          ],
          [
           "M"
          ],
          [
           "M"
          ],
          [
           "M"
          ],
          [
           "M"
          ],
          [
           "M"
          ],
          [
           "M"
          ],
          [
           "F"
          ],
          [
           "M"
          ],
          [
           "M"
          ],
          [
           "M"
          ],
          [
           "M"
          ],
          [
           "F"
          ],
          [
           "M"
          ],
          [
           "M"
          ],
          [
           "M"
          ],
          [
           "M"
          ],
          [
           "M"
          ],
          [
           "F"
          ],
          [
           "M"
          ],
          [
           "M"
          ],
          [
           "F"
          ],
          [
           "M"
          ],
          [
           "M"
          ],
          [
           "M"
          ],
          [
           "M"
          ],
          [
           "F"
          ],
          [
           "M"
          ],
          [
           "M"
          ],
          [
           "M"
          ],
          [
           "M"
          ],
          [
           "F"
          ],
          [
           "F"
          ],
          [
           "M"
          ],
          [
           "M"
          ],
          [
           "M"
          ],
          [
           "M"
          ],
          [
           "M"
          ],
          [
           "M"
          ],
          [
           "M"
          ],
          [
           "M"
          ],
          [
           "F"
          ],
          [
           "F"
          ],
          [
           "F"
          ],
          [
           "F"
          ],
          [
           "M"
          ],
          [
           "F"
          ],
          [
           "M"
          ],
          [
           "M"
          ],
          [
           "F"
          ],
          [
           "M"
          ],
          [
           "M"
          ],
          [
           "M"
          ],
          [
           "M"
          ],
          [
           "M"
          ],
          [
           "M"
          ],
          [
           "M"
          ],
          [
           "M"
          ],
          [
           "F"
          ],
          [
           "M"
          ],
          [
           "M"
          ],
          [
           "M"
          ],
          [
           "M"
          ],
          [
           "M"
          ],
          [
           "M"
          ],
          [
           "M"
          ],
          [
           "F"
          ],
          [
           "M"
          ],
          [
           "M"
          ],
          [
           "F"
          ],
          [
           "F"
          ],
          [
           "F"
          ],
          [
           "F"
          ],
          [
           "M"
          ],
          [
           "F"
          ],
          [
           "F"
          ],
          [
           "M"
          ],
          [
           "M"
          ],
          [
           "F"
          ],
          [
           "M"
          ],
          [
           "F"
          ],
          [
           "M"
          ],
          [
           "M"
          ],
          [
           "M"
          ],
          [
           "F"
          ],
          [
           "F"
          ],
          [
           "M"
          ],
          [
           "M"
          ],
          [
           "F"
          ],
          [
           "M"
          ],
          [
           "F"
          ],
          [
           "F"
          ],
          [
           "M"
          ],
          [
           "M"
          ],
          [
           "F"
          ],
          [
           "F"
          ],
          [
           "M"
          ],
          [
           "M"
          ],
          [
           "M"
          ],
          [
           "M"
          ],
          [
           "M"
          ],
          [
           "M"
          ],
          [
           "M"
          ],
          [
           "M"
          ],
          [
           "M"
          ],
          [
           "F"
          ],
          [
           "M"
          ],
          [
           "M"
          ],
          [
           "F"
          ],
          [
           "M"
          ],
          [
           "M"
          ],
          [
           "M"
          ],
          [
           "M"
          ],
          [
           "M"
          ],
          [
           "M"
          ],
          [
           "F"
          ],
          [
           "F"
          ],
          [
           "F"
          ],
          [
           "M"
          ],
          [
           "F"
          ],
          [
           "M"
          ],
          [
           "M"
          ],
          [
           "M"
          ],
          [
           "M"
          ],
          [
           "F"
          ],
          [
           "M"
          ],
          [
           "F"
          ],
          [
           "F"
          ],
          [
           "M"
          ],
          [
           "F"
          ],
          [
           "F"
          ],
          [
           "M"
          ],
          [
           "F"
          ],
          [
           "M"
          ],
          [
           "F"
          ],
          [
           "F"
          ],
          [
           "M"
          ],
          [
           "M"
          ],
          [
           "M"
          ],
          [
           "M"
          ],
          [
           "F"
          ],
          [
           "M"
          ],
          [
           "F"
          ],
          [
           "M"
          ],
          [
           "F"
          ],
          [
           "M"
          ],
          [
           "M"
          ],
          [
           "F"
          ],
          [
           "M"
          ],
          [
           "M"
          ],
          [
           "M"
          ],
          [
           "M"
          ],
          [
           "F"
          ],
          [
           "F"
          ],
          [
           "M"
          ],
          [
           "F"
          ],
          [
           "M"
          ],
          [
           "M"
          ],
          [
           "M"
          ],
          [
           "M"
          ],
          [
           "M"
          ],
          [
           "M"
          ],
          [
           "M"
          ],
          [
           "M"
          ],
          [
           "M"
          ],
          [
           "M"
          ],
          [
           "F"
          ],
          [
           "M"
          ],
          [
           "F"
          ],
          [
           "F"
          ],
          [
           "F"
          ],
          [
           "F"
          ],
          [
           "F"
          ],
          [
           "M"
          ],
          [
           "M"
          ],
          [
           "M"
          ],
          [
           "F"
          ],
          [
           "M"
          ],
          [
           "F"
          ],
          [
           "M"
          ],
          [
           "M"
          ],
          [
           "M"
          ],
          [
           "F"
          ],
          [
           "F"
          ],
          [
           "M"
          ],
          [
           "F"
          ],
          [
           "M"
          ],
          [
           "M"
          ],
          [
           "M"
          ],
          [
           "M"
          ],
          [
           "F"
          ],
          [
           "M"
          ],
          [
           "F"
          ],
          [
           "M"
          ],
          [
           "M"
          ],
          [
           "M"
          ],
          [
           "M"
          ],
          [
           "M"
          ],
          [
           "F"
          ],
          [
           "M"
          ],
          [
           "F"
          ],
          [
           "M"
          ],
          [
           "M"
          ],
          [
           "M"
          ],
          [
           "M"
          ],
          [
           "F"
          ],
          [
           "M"
          ],
          [
           "M"
          ],
          [
           "M"
          ],
          [
           "M"
          ],
          [
           "M"
          ],
          [
           "M"
          ],
          [
           "F"
          ],
          [
           "F"
          ],
          [
           "F"
          ],
          [
           "F"
          ],
          [
           "M"
          ],
          [
           "M"
          ],
          [
           "M"
          ],
          [
           "M"
          ],
          [
           "M"
          ],
          [
           "M"
          ],
          [
           "M"
          ],
          [
           "F"
          ],
          [
           "M"
          ],
          [
           "M"
          ],
          [
           "M"
          ],
          [
           "M"
          ],
          [
           "M"
          ],
          [
           "F"
          ],
          [
           "M"
          ],
          [
           "M"
          ],
          [
           "F"
          ],
          [
           "F"
          ],
          [
           "M"
          ],
          [
           "M"
          ],
          [
           "M"
          ],
          [
           "M"
          ],
          [
           "M"
          ],
          [
           "M"
          ],
          [
           "M"
          ],
          [
           "F"
          ],
          [
           "M"
          ],
          [
           "F"
          ],
          [
           "F"
          ],
          [
           "F"
          ],
          [
           "M"
          ],
          [
           "F"
          ],
          [
           "M"
          ],
          [
           "M"
          ],
          [
           "M"
          ],
          [
           "M"
          ],
          [
           "F"
          ],
          [
           "F"
          ],
          [
           "M"
          ],
          [
           "M"
          ],
          [
           "M"
          ],
          [
           "M"
          ],
          [
           "M"
          ],
          [
           "F"
          ],
          [
           "F"
          ],
          [
           "F"
          ],
          [
           "M"
          ],
          [
           "M"
          ],
          [
           "F"
          ],
          [
           "M"
          ],
          [
           "M"
          ],
          [
           "M"
          ],
          [
           "M"
          ],
          [
           "M"
          ],
          [
           "M"
          ],
          [
           "M"
          ],
          [
           "F"
          ],
          [
           "M"
          ],
          [
           "M"
          ],
          [
           "M"
          ],
          [
           "M"
          ],
          [
           "F"
          ],
          [
           "M"
          ],
          [
           "M"
          ],
          [
           "M"
          ],
          [
           "M"
          ],
          [
           "M"
          ],
          [
           "M"
          ],
          [
           "F"
          ],
          [
           "M"
          ],
          [
           "M"
          ],
          [
           "F"
          ],
          [
           "M"
          ],
          [
           "M"
          ],
          [
           "M"
          ],
          [
           "M"
          ],
          [
           "M"
          ],
          [
           "F"
          ],
          [
           "F"
          ],
          [
           "M"
          ],
          [
           "F"
          ],
          [
           "M"
          ],
          [
           "M"
          ],
          [
           "F"
          ],
          [
           "M"
          ],
          [
           "M"
          ],
          [
           "M"
          ],
          [
           "F"
          ],
          [
           "M"
          ],
          [
           "M"
          ],
          [
           "M"
          ],
          [
           "M"
          ],
          [
           "F"
          ],
          [
           "M"
          ],
          [
           "M"
          ],
          [
           "F"
          ],
          [
           "M"
          ],
          [
           "M"
          ],
          [
           "F"
          ],
          [
           "M"
          ],
          [
           "M"
          ],
          [
           "M"
          ],
          [
           "F"
          ],
          [
           "M"
          ]
         ],
         "domain": {
          "x": [
           0,
           1
          ],
          "y": [
           0,
           1
          ]
         },
         "hovertemplate": "Sex=%{customdata[0]}<extra></extra>",
         "labels": [
          "M",
          "F",
          "M",
          "F",
          "M",
          "M",
          "F",
          "M",
          "M",
          "F",
          "F",
          "M",
          "M",
          "M",
          "F",
          "F",
          "M",
          "F",
          "M",
          "M",
          "F",
          "M",
          "F",
          "M",
          "M",
          "M",
          "M",
          "M",
          "F",
          "M",
          "M",
          "M",
          "M",
          "M",
          "F",
          "M",
          "M",
          "F",
          "F",
          "F",
          "F",
          "F",
          "M",
          "M",
          "M",
          "M",
          "M",
          "M",
          "M",
          "M",
          "M",
          "F",
          "M",
          "F",
          "F",
          "F",
          "M",
          "M",
          "M",
          "M",
          "M",
          "F",
          "M",
          "M",
          "F",
          "F",
          "F",
          "M",
          "M",
          "M",
          "M",
          "M",
          "M",
          "F",
          "M",
          "M",
          "M",
          "F",
          "M",
          "M",
          "M",
          "M",
          "M",
          "M",
          "M",
          "M",
          "M",
          "F",
          "M",
          "M",
          "F",
          "M",
          "F",
          "M",
          "F",
          "M",
          "M",
          "M",
          "M",
          "M",
          "M",
          "M",
          "F",
          "M",
          "M",
          "M",
          "F",
          "M",
          "M",
          "M",
          "F",
          "M",
          "M",
          "M",
          "F",
          "F",
          "M",
          "F",
          "F",
          "M",
          "F",
          "F",
          "M",
          "F",
          "M",
          "M",
          "F",
          "F",
          "F",
          "M",
          "M",
          "M",
          "M",
          "M",
          "F",
          "M",
          "F",
          "M",
          "M",
          "M",
          "M",
          "M",
          "M",
          "M",
          "F",
          "M",
          "M",
          "F",
          "M",
          "M",
          "M",
          "M",
          "M",
          "M",
          "M",
          "M",
          "M",
          "M",
          "M",
          "M",
          "M",
          "M",
          "M",
          "M",
          "F",
          "M",
          "M",
          "M",
          "M",
          "M",
          "M",
          "M",
          "M",
          "M",
          "M",
          "M",
          "M",
          "M",
          "M",
          "F",
          "M",
          "M",
          "M",
          "M",
          "F",
          "M",
          "M",
          "M",
          "F",
          "M",
          "M",
          "M",
          "M",
          "M",
          "F",
          "F",
          "M",
          "M",
          "M",
          "F",
          "M",
          "M",
          "M",
          "F",
          "M",
          "M",
          "M",
          "M",
          "M",
          "M",
          "M",
          "F",
          "M",
          "F",
          "M",
          "F",
          "M",
          "M",
          "M",
          "M",
          "M",
          "F",
          "F",
          "M",
          "M",
          "M",
          "M",
          "M",
          "M",
          "F",
          "M",
          "M",
          "F",
          "M",
          "F",
          "M",
          "M",
          "M",
          "M",
          "M",
          "M",
          "M",
          "M",
          "F",
          "M",
          "M",
          "M",
          "M",
          "M",
          "M",
          "M",
          "M",
          "M",
          "M",
          "M",
          "F",
          "F",
          "M",
          "F",
          "F",
          "M",
          "F",
          "M",
          "M",
          "M",
          "M",
          "M",
          "M",
          "M",
          "F",
          "M",
          "F",
          "M",
          "M",
          "F",
          "M",
          "M",
          "M",
          "F",
          "F",
          "M",
          "M",
          "F",
          "F",
          "M",
          "F",
          "M",
          "M",
          "F",
          "M",
          "M",
          "F",
          "M",
          "M",
          "M",
          "M",
          "M",
          "M",
          "M",
          "M",
          "M",
          "M",
          "M",
          "F",
          "M",
          "F",
          "M",
          "M",
          "M",
          "M",
          "M",
          "M",
          "M",
          "M",
          "M",
          "M",
          "M",
          "M",
          "M",
          "M",
          "M",
          "M",
          "F",
          "M",
          "M",
          "M",
          "M",
          "M",
          "M",
          "M",
          "M",
          "M",
          "M",
          "M",
          "M",
          "M",
          "M",
          "M",
          "M",
          "F",
          "M",
          "M",
          "M",
          "M",
          "M",
          "M",
          "M",
          "M",
          "M",
          "M",
          "M",
          "M",
          "M",
          "M",
          "M",
          "M",
          "M",
          "M",
          "M",
          "M",
          "M",
          "M",
          "M",
          "M",
          "M",
          "F",
          "M",
          "M",
          "M",
          "M",
          "M",
          "M",
          "M",
          "M",
          "M",
          "F",
          "M",
          "M",
          "M",
          "M",
          "M",
          "M",
          "M",
          "F",
          "M",
          "M",
          "M",
          "M",
          "M",
          "M",
          "M",
          "M",
          "M",
          "M",
          "M",
          "M",
          "F",
          "M",
          "M",
          "M",
          "F",
          "M",
          "M",
          "M",
          "M",
          "M",
          "M",
          "M",
          "M",
          "M",
          "M",
          "M",
          "M",
          "M",
          "M",
          "F",
          "M",
          "M",
          "M",
          "M",
          "M",
          "M",
          "M",
          "M",
          "M",
          "M",
          "M",
          "M",
          "M",
          "M",
          "M",
          "M",
          "M",
          "M",
          "M",
          "M",
          "M",
          "M",
          "M",
          "M",
          "M",
          "M",
          "M",
          "M",
          "M",
          "M",
          "M",
          "M",
          "M",
          "M",
          "M",
          "M",
          "M",
          "M",
          "M",
          "M",
          "M",
          "M",
          "M",
          "M",
          "M",
          "M",
          "M",
          "M",
          "M",
          "M",
          "M",
          "F",
          "M",
          "M",
          "M",
          "M",
          "M",
          "M",
          "M",
          "M",
          "M",
          "M",
          "M",
          "M",
          "M",
          "M",
          "M",
          "M",
          "M",
          "M",
          "M",
          "M",
          "M",
          "M",
          "M",
          "M",
          "M",
          "M",
          "M",
          "F",
          "M",
          "M",
          "M",
          "M",
          "M",
          "M",
          "M",
          "M",
          "M",
          "M",
          "M",
          "M",
          "M",
          "M",
          "M",
          "M",
          "M",
          "M",
          "M",
          "M",
          "M",
          "M",
          "M",
          "M",
          "M",
          "M",
          "M",
          "M",
          "M",
          "M",
          "M",
          "M",
          "M",
          "M",
          "M",
          "M",
          "M",
          "M",
          "M",
          "M",
          "M",
          "M",
          "M",
          "M",
          "M",
          "M",
          "F",
          "M",
          "F",
          "M",
          "M",
          "M",
          "M",
          "M",
          "M",
          "M",
          "M",
          "M",
          "M",
          "M",
          "M",
          "M",
          "M",
          "M",
          "M",
          "M",
          "M",
          "M",
          "M",
          "M",
          "M",
          "M",
          "M",
          "M",
          "M",
          "M",
          "M",
          "M",
          "M",
          "M",
          "M",
          "M",
          "M",
          "M",
          "M",
          "M",
          "M",
          "M",
          "M",
          "M",
          "M",
          "M",
          "M",
          "M",
          "M",
          "M",
          "M",
          "M",
          "M",
          "M",
          "M",
          "M",
          "M",
          "M",
          "M",
          "M",
          "M",
          "M",
          "M",
          "F",
          "M",
          "M",
          "M",
          "M",
          "F",
          "M",
          "M",
          "M",
          "M",
          "M",
          "F",
          "M",
          "M",
          "F",
          "M",
          "M",
          "M",
          "M",
          "F",
          "M",
          "M",
          "M",
          "M",
          "F",
          "F",
          "M",
          "M",
          "M",
          "M",
          "M",
          "M",
          "M",
          "M",
          "F",
          "F",
          "F",
          "F",
          "M",
          "F",
          "M",
          "M",
          "F",
          "M",
          "M",
          "M",
          "M",
          "M",
          "M",
          "M",
          "M",
          "F",
          "M",
          "M",
          "M",
          "M",
          "M",
          "M",
          "M",
          "F",
          "M",
          "M",
          "F",
          "F",
          "F",
          "F",
          "M",
          "F",
          "F",
          "M",
          "M",
          "F",
          "M",
          "F",
          "M",
          "M",
          "M",
          "F",
          "F",
          "M",
          "M",
          "F",
          "M",
          "F",
          "F",
          "M",
          "M",
          "F",
          "F",
          "M",
          "M",
          "M",
          "M",
          "M",
          "M",
          "M",
          "M",
          "M",
          "F",
          "M",
          "M",
          "F",
          "M",
          "M",
          "M",
          "M",
          "M",
          "M",
          "F",
          "F",
          "F",
          "M",
          "F",
          "M",
          "M",
          "M",
          "M",
          "F",
          "M",
          "F",
          "F",
          "M",
          "F",
          "F",
          "M",
          "F",
          "M",
          "F",
          "F",
          "M",
          "M",
          "M",
          "M",
          "F",
          "M",
          "F",
          "M",
          "F",
          "M",
          "M",
          "F",
          "M",
          "M",
          "M",
          "M",
          "F",
          "F",
          "M",
          "F",
          "M",
          "M",
          "M",
          "M",
          "M",
          "M",
          "M",
          "M",
          "M",
          "M",
          "F",
          "M",
          "F",
          "F",
          "F",
          "F",
          "F",
          "M",
          "M",
          "M",
          "F",
          "M",
          "F",
          "M",
          "M",
          "M",
          "F",
          "F",
          "M",
          "F",
          "M",
          "M",
          "M",
          "M",
          "F",
          "M",
          "F",
          "M",
          "M",
          "M",
          "M",
          "M",
          "F",
          "M",
          "F",
          "M",
          "M",
          "M",
          "M",
          "F",
          "M",
          "M",
          "M",
          "M",
          "M",
          "M",
          "F",
          "F",
          "F",
          "F",
          "M",
          "M",
          "M",
          "M",
          "M",
          "M",
          "M",
          "F",
          "M",
          "M",
          "M",
          "M",
          "M",
          "F",
          "M",
          "M",
          "F",
          "F",
          "M",
          "M",
          "M",
          "M",
          "M",
          "M",
          "M",
          "F",
          "M",
          "F",
          "F",
          "F",
          "M",
          "F",
          "M",
          "M",
          "M",
          "M",
          "F",
          "F",
          "M",
          "M",
          "M",
          "M",
          "M",
          "F",
          "F",
          "F",
          "M",
          "M",
          "F",
          "M",
          "M",
          "M",
          "M",
          "M",
          "M",
          "M",
          "F",
          "M",
          "M",
          "M",
          "M",
          "F",
          "M",
          "M",
          "M",
          "M",
          "M",
          "M",
          "F",
          "M",
          "M",
          "F",
          "M",
          "M",
          "M",
          "M",
          "M",
          "F",
          "F",
          "M",
          "F",
          "M",
          "M",
          "F",
          "M",
          "M",
          "M",
          "F",
          "M",
          "M",
          "M",
          "M",
          "F",
          "M",
          "M",
          "F",
          "M",
          "M",
          "F",
          "M",
          "M",
          "M",
          "F",
          "M"
         ],
         "legendgroup": "",
         "marker": {
          "colors": [
           "blue",
           "red",
           "blue",
           "red",
           "blue",
           "blue",
           "red",
           "blue",
           "blue",
           "red",
           "red",
           "blue",
           "blue",
           "blue",
           "red",
           "red",
           "blue",
           "red",
           "blue",
           "blue",
           "red",
           "blue",
           "red",
           "blue",
           "blue",
           "blue",
           "blue",
           "blue",
           "red",
           "blue",
           "blue",
           "blue",
           "blue",
           "blue",
           "red",
           "blue",
           "blue",
           "red",
           "red",
           "red",
           "red",
           "red",
           "blue",
           "blue",
           "blue",
           "blue",
           "blue",
           "blue",
           "blue",
           "blue",
           "blue",
           "red",
           "blue",
           "red",
           "red",
           "red",
           "blue",
           "blue",
           "blue",
           "blue",
           "blue",
           "red",
           "blue",
           "blue",
           "red",
           "red",
           "red",
           "blue",
           "blue",
           "blue",
           "blue",
           "blue",
           "blue",
           "red",
           "blue",
           "blue",
           "blue",
           "red",
           "blue",
           "blue",
           "blue",
           "blue",
           "blue",
           "blue",
           "blue",
           "blue",
           "blue",
           "red",
           "blue",
           "blue",
           "red",
           "blue",
           "red",
           "blue",
           "red",
           "blue",
           "blue",
           "blue",
           "blue",
           "blue",
           "blue",
           "blue",
           "red",
           "blue",
           "blue",
           "blue",
           "red",
           "blue",
           "blue",
           "blue",
           "red",
           "blue",
           "blue",
           "blue",
           "red",
           "red",
           "blue",
           "red",
           "red",
           "blue",
           "red",
           "red",
           "blue",
           "red",
           "blue",
           "blue",
           "red",
           "red",
           "red",
           "blue",
           "blue",
           "blue",
           "blue",
           "blue",
           "red",
           "blue",
           "red",
           "blue",
           "blue",
           "blue",
           "blue",
           "blue",
           "blue",
           "blue",
           "red",
           "blue",
           "blue",
           "red",
           "blue",
           "blue",
           "blue",
           "blue",
           "blue",
           "blue",
           "blue",
           "blue",
           "blue",
           "blue",
           "blue",
           "blue",
           "blue",
           "blue",
           "blue",
           "blue",
           "red",
           "blue",
           "blue",
           "blue",
           "blue",
           "blue",
           "blue",
           "blue",
           "blue",
           "blue",
           "blue",
           "blue",
           "blue",
           "blue",
           "blue",
           "red",
           "blue",
           "blue",
           "blue",
           "blue",
           "red",
           "blue",
           "blue",
           "blue",
           "red",
           "blue",
           "blue",
           "blue",
           "blue",
           "blue",
           "red",
           "red",
           "blue",
           "blue",
           "blue",
           "red",
           "blue",
           "blue",
           "blue",
           "red",
           "blue",
           "blue",
           "blue",
           "blue",
           "blue",
           "blue",
           "blue",
           "red",
           "blue",
           "red",
           "blue",
           "red",
           "blue",
           "blue",
           "blue",
           "blue",
           "blue",
           "red",
           "red",
           "blue",
           "blue",
           "blue",
           "blue",
           "blue",
           "blue",
           "red",
           "blue",
           "blue",
           "red",
           "blue",
           "red",
           "blue",
           "blue",
           "blue",
           "blue",
           "blue",
           "blue",
           "blue",
           "blue",
           "red",
           "blue",
           "blue",
           "blue",
           "blue",
           "blue",
           "blue",
           "blue",
           "blue",
           "blue",
           "blue",
           "blue",
           "red",
           "red",
           "blue",
           "red",
           "red",
           "blue",
           "red",
           "blue",
           "blue",
           "blue",
           "blue",
           "blue",
           "blue",
           "blue",
           "red",
           "blue",
           "red",
           "blue",
           "blue",
           "red",
           "blue",
           "blue",
           "blue",
           "red",
           "red",
           "blue",
           "blue",
           "red",
           "red",
           "blue",
           "red",
           "blue",
           "blue",
           "red",
           "blue",
           "blue",
           "red",
           "blue",
           "blue",
           "blue",
           "blue",
           "blue",
           "blue",
           "blue",
           "blue",
           "blue",
           "blue",
           "blue",
           "red",
           "blue",
           "red",
           "blue",
           "blue",
           "blue",
           "blue",
           "blue",
           "blue",
           "blue",
           "blue",
           "blue",
           "blue",
           "blue",
           "blue",
           "blue",
           "blue",
           "blue",
           "blue",
           "red",
           "blue",
           "blue",
           "blue",
           "blue",
           "blue",
           "blue",
           "blue",
           "blue",
           "blue",
           "blue",
           "blue",
           "blue",
           "blue",
           "blue",
           "blue",
           "blue",
           "red",
           "blue",
           "blue",
           "blue",
           "blue",
           "blue",
           "blue",
           "blue",
           "blue",
           "blue",
           "blue",
           "blue",
           "blue",
           "blue",
           "blue",
           "blue",
           "blue",
           "blue",
           "blue",
           "blue",
           "blue",
           "blue",
           "blue",
           "blue",
           "blue",
           "blue",
           "red",
           "blue",
           "blue",
           "blue",
           "blue",
           "blue",
           "blue",
           "blue",
           "blue",
           "blue",
           "red",
           "blue",
           "blue",
           "blue",
           "blue",
           "blue",
           "blue",
           "blue",
           "red",
           "blue",
           "blue",
           "blue",
           "blue",
           "blue",
           "blue",
           "blue",
           "blue",
           "blue",
           "blue",
           "blue",
           "blue",
           "red",
           "blue",
           "blue",
           "blue",
           "red",
           "blue",
           "blue",
           "blue",
           "blue",
           "blue",
           "blue",
           "blue",
           "blue",
           "blue",
           "blue",
           "blue",
           "blue",
           "blue",
           "blue",
           "red",
           "blue",
           "blue",
           "blue",
           "blue",
           "blue",
           "blue",
           "blue",
           "blue",
           "blue",
           "blue",
           "blue",
           "blue",
           "blue",
           "blue",
           "blue",
           "blue",
           "blue",
           "blue",
           "blue",
           "blue",
           "blue",
           "blue",
           "blue",
           "blue",
           "blue",
           "blue",
           "blue",
           "blue",
           "blue",
           "blue",
           "blue",
           "blue",
           "blue",
           "blue",
           "blue",
           "blue",
           "blue",
           "blue",
           "blue",
           "blue",
           "blue",
           "blue",
           "blue",
           "blue",
           "blue",
           "blue",
           "blue",
           "blue",
           "blue",
           "blue",
           "blue",
           "red",
           "blue",
           "blue",
           "blue",
           "blue",
           "blue",
           "blue",
           "blue",
           "blue",
           "blue",
           "blue",
           "blue",
           "blue",
           "blue",
           "blue",
           "blue",
           "blue",
           "blue",
           "blue",
           "blue",
           "blue",
           "blue",
           "blue",
           "blue",
           "blue",
           "blue",
           "blue",
           "blue",
           "red",
           "blue",
           "blue",
           "blue",
           "blue",
           "blue",
           "blue",
           "blue",
           "blue",
           "blue",
           "blue",
           "blue",
           "blue",
           "blue",
           "blue",
           "blue",
           "blue",
           "blue",
           "blue",
           "blue",
           "blue",
           "blue",
           "blue",
           "blue",
           "blue",
           "blue",
           "blue",
           "blue",
           "blue",
           "blue",
           "blue",
           "blue",
           "blue",
           "blue",
           "blue",
           "blue",
           "blue",
           "blue",
           "blue",
           "blue",
           "blue",
           "blue",
           "blue",
           "blue",
           "blue",
           "blue",
           "blue",
           "red",
           "blue",
           "red",
           "blue",
           "blue",
           "blue",
           "blue",
           "blue",
           "blue",
           "blue",
           "blue",
           "blue",
           "blue",
           "blue",
           "blue",
           "blue",
           "blue",
           "blue",
           "blue",
           "blue",
           "blue",
           "blue",
           "blue",
           "blue",
           "blue",
           "blue",
           "blue",
           "blue",
           "blue",
           "blue",
           "blue",
           "blue",
           "blue",
           "blue",
           "blue",
           "blue",
           "blue",
           "blue",
           "blue",
           "blue",
           "blue",
           "blue",
           "blue",
           "blue",
           "blue",
           "blue",
           "blue",
           "blue",
           "blue",
           "blue",
           "blue",
           "blue",
           "blue",
           "blue",
           "blue",
           "blue",
           "blue",
           "blue",
           "blue",
           "blue",
           "blue",
           "blue",
           "blue",
           "red",
           "blue",
           "blue",
           "blue",
           "blue",
           "red",
           "blue",
           "blue",
           "blue",
           "blue",
           "blue",
           "red",
           "blue",
           "blue",
           "red",
           "blue",
           "blue",
           "blue",
           "blue",
           "red",
           "blue",
           "blue",
           "blue",
           "blue",
           "red",
           "red",
           "blue",
           "blue",
           "blue",
           "blue",
           "blue",
           "blue",
           "blue",
           "blue",
           "red",
           "red",
           "red",
           "red",
           "blue",
           "red",
           "blue",
           "blue",
           "red",
           "blue",
           "blue",
           "blue",
           "blue",
           "blue",
           "blue",
           "blue",
           "blue",
           "red",
           "blue",
           "blue",
           "blue",
           "blue",
           "blue",
           "blue",
           "blue",
           "red",
           "blue",
           "blue",
           "red",
           "red",
           "red",
           "red",
           "blue",
           "red",
           "red",
           "blue",
           "blue",
           "red",
           "blue",
           "red",
           "blue",
           "blue",
           "blue",
           "red",
           "red",
           "blue",
           "blue",
           "red",
           "blue",
           "red",
           "red",
           "blue",
           "blue",
           "red",
           "red",
           "blue",
           "blue",
           "blue",
           "blue",
           "blue",
           "blue",
           "blue",
           "blue",
           "blue",
           "red",
           "blue",
           "blue",
           "red",
           "blue",
           "blue",
           "blue",
           "blue",
           "blue",
           "blue",
           "red",
           "red",
           "red",
           "blue",
           "red",
           "blue",
           "blue",
           "blue",
           "blue",
           "red",
           "blue",
           "red",
           "red",
           "blue",
           "red",
           "red",
           "blue",
           "red",
           "blue",
           "red",
           "red",
           "blue",
           "blue",
           "blue",
           "blue",
           "red",
           "blue",
           "red",
           "blue",
           "red",
           "blue",
           "blue",
           "red",
           "blue",
           "blue",
           "blue",
           "blue",
           "red",
           "red",
           "blue",
           "red",
           "blue",
           "blue",
           "blue",
           "blue",
           "blue",
           "blue",
           "blue",
           "blue",
           "blue",
           "blue",
           "red",
           "blue",
           "red",
           "red",
           "red",
           "red",
           "red",
           "blue",
           "blue",
           "blue",
           "red",
           "blue",
           "red",
           "blue",
           "blue",
           "blue",
           "red",
           "red",
           "blue",
           "red",
           "blue",
           "blue",
           "blue",
           "blue",
           "red",
           "blue",
           "red",
           "blue",
           "blue",
           "blue",
           "blue",
           "blue",
           "red",
           "blue",
           "red",
           "blue",
           "blue",
           "blue",
           "blue",
           "red",
           "blue",
           "blue",
           "blue",
           "blue",
           "blue",
           "blue",
           "red",
           "red",
           "red",
           "red",
           "blue",
           "blue",
           "blue",
           "blue",
           "blue",
           "blue",
           "blue",
           "red",
           "blue",
           "blue",
           "blue",
           "blue",
           "blue",
           "red",
           "blue",
           "blue",
           "red",
           "red",
           "blue",
           "blue",
           "blue",
           "blue",
           "blue",
           "blue",
           "blue",
           "red",
           "blue",
           "red",
           "red",
           "red",
           "blue",
           "red",
           "blue",
           "blue",
           "blue",
           "blue",
           "red",
           "red",
           "blue",
           "blue",
           "blue",
           "blue",
           "blue",
           "red",
           "red",
           "red",
           "blue",
           "blue",
           "red",
           "blue",
           "blue",
           "blue",
           "blue",
           "blue",
           "blue",
           "blue",
           "red",
           "blue",
           "blue",
           "blue",
           "blue",
           "red",
           "blue",
           "blue",
           "blue",
           "blue",
           "blue",
           "blue",
           "red",
           "blue",
           "blue",
           "red",
           "blue",
           "blue",
           "blue",
           "blue",
           "blue",
           "red",
           "red",
           "blue",
           "red",
           "blue",
           "blue",
           "red",
           "blue",
           "blue",
           "blue",
           "red",
           "blue",
           "blue",
           "blue",
           "blue",
           "red",
           "blue",
           "blue",
           "red",
           "blue",
           "blue",
           "red",
           "blue",
           "blue",
           "blue",
           "red",
           "blue"
          ]
         },
         "name": "",
         "showlegend": true,
         "type": "pie"
        }
       ],
       "layout": {
        "legend": {
         "tracegroupgap": 0
        },
        "template": {
         "data": {
          "bar": [
           {
            "error_x": {
             "color": "#2a3f5f"
            },
            "error_y": {
             "color": "#2a3f5f"
            },
            "marker": {
             "line": {
              "color": "#E5ECF6",
              "width": 0.5
             },
             "pattern": {
              "fillmode": "overlay",
              "size": 10,
              "solidity": 0.2
             }
            },
            "type": "bar"
           }
          ],
          "barpolar": [
           {
            "marker": {
             "line": {
              "color": "#E5ECF6",
              "width": 0.5
             },
             "pattern": {
              "fillmode": "overlay",
              "size": 10,
              "solidity": 0.2
             }
            },
            "type": "barpolar"
           }
          ],
          "carpet": [
           {
            "aaxis": {
             "endlinecolor": "#2a3f5f",
             "gridcolor": "white",
             "linecolor": "white",
             "minorgridcolor": "white",
             "startlinecolor": "#2a3f5f"
            },
            "baxis": {
             "endlinecolor": "#2a3f5f",
             "gridcolor": "white",
             "linecolor": "white",
             "minorgridcolor": "white",
             "startlinecolor": "#2a3f5f"
            },
            "type": "carpet"
           }
          ],
          "choropleth": [
           {
            "colorbar": {
             "outlinewidth": 0,
             "ticks": ""
            },
            "type": "choropleth"
           }
          ],
          "contour": [
           {
            "colorbar": {
             "outlinewidth": 0,
             "ticks": ""
            },
            "colorscale": [
             [
              0,
              "#0d0887"
             ],
             [
              0.1111111111111111,
              "#46039f"
             ],
             [
              0.2222222222222222,
              "#7201a8"
             ],
             [
              0.3333333333333333,
              "#9c179e"
             ],
             [
              0.4444444444444444,
              "#bd3786"
             ],
             [
              0.5555555555555556,
              "#d8576b"
             ],
             [
              0.6666666666666666,
              "#ed7953"
             ],
             [
              0.7777777777777778,
              "#fb9f3a"
             ],
             [
              0.8888888888888888,
              "#fdca26"
             ],
             [
              1,
              "#f0f921"
             ]
            ],
            "type": "contour"
           }
          ],
          "contourcarpet": [
           {
            "colorbar": {
             "outlinewidth": 0,
             "ticks": ""
            },
            "type": "contourcarpet"
           }
          ],
          "heatmap": [
           {
            "colorbar": {
             "outlinewidth": 0,
             "ticks": ""
            },
            "colorscale": [
             [
              0,
              "#0d0887"
             ],
             [
              0.1111111111111111,
              "#46039f"
             ],
             [
              0.2222222222222222,
              "#7201a8"
             ],
             [
              0.3333333333333333,
              "#9c179e"
             ],
             [
              0.4444444444444444,
              "#bd3786"
             ],
             [
              0.5555555555555556,
              "#d8576b"
             ],
             [
              0.6666666666666666,
              "#ed7953"
             ],
             [
              0.7777777777777778,
              "#fb9f3a"
             ],
             [
              0.8888888888888888,
              "#fdca26"
             ],
             [
              1,
              "#f0f921"
             ]
            ],
            "type": "heatmap"
           }
          ],
          "heatmapgl": [
           {
            "colorbar": {
             "outlinewidth": 0,
             "ticks": ""
            },
            "colorscale": [
             [
              0,
              "#0d0887"
             ],
             [
              0.1111111111111111,
              "#46039f"
             ],
             [
              0.2222222222222222,
              "#7201a8"
             ],
             [
              0.3333333333333333,
              "#9c179e"
             ],
             [
              0.4444444444444444,
              "#bd3786"
             ],
             [
              0.5555555555555556,
              "#d8576b"
             ],
             [
              0.6666666666666666,
              "#ed7953"
             ],
             [
              0.7777777777777778,
              "#fb9f3a"
             ],
             [
              0.8888888888888888,
              "#fdca26"
             ],
             [
              1,
              "#f0f921"
             ]
            ],
            "type": "heatmapgl"
           }
          ],
          "histogram": [
           {
            "marker": {
             "pattern": {
              "fillmode": "overlay",
              "size": 10,
              "solidity": 0.2
             }
            },
            "type": "histogram"
           }
          ],
          "histogram2d": [
           {
            "colorbar": {
             "outlinewidth": 0,
             "ticks": ""
            },
            "colorscale": [
             [
              0,
              "#0d0887"
             ],
             [
              0.1111111111111111,
              "#46039f"
             ],
             [
              0.2222222222222222,
              "#7201a8"
             ],
             [
              0.3333333333333333,
              "#9c179e"
             ],
             [
              0.4444444444444444,
              "#bd3786"
             ],
             [
              0.5555555555555556,
              "#d8576b"
             ],
             [
              0.6666666666666666,
              "#ed7953"
             ],
             [
              0.7777777777777778,
              "#fb9f3a"
             ],
             [
              0.8888888888888888,
              "#fdca26"
             ],
             [
              1,
              "#f0f921"
             ]
            ],
            "type": "histogram2d"
           }
          ],
          "histogram2dcontour": [
           {
            "colorbar": {
             "outlinewidth": 0,
             "ticks": ""
            },
            "colorscale": [
             [
              0,
              "#0d0887"
             ],
             [
              0.1111111111111111,
              "#46039f"
             ],
             [
              0.2222222222222222,
              "#7201a8"
             ],
             [
              0.3333333333333333,
              "#9c179e"
             ],
             [
              0.4444444444444444,
              "#bd3786"
             ],
             [
              0.5555555555555556,
              "#d8576b"
             ],
             [
              0.6666666666666666,
              "#ed7953"
             ],
             [
              0.7777777777777778,
              "#fb9f3a"
             ],
             [
              0.8888888888888888,
              "#fdca26"
             ],
             [
              1,
              "#f0f921"
             ]
            ],
            "type": "histogram2dcontour"
           }
          ],
          "mesh3d": [
           {
            "colorbar": {
             "outlinewidth": 0,
             "ticks": ""
            },
            "type": "mesh3d"
           }
          ],
          "parcoords": [
           {
            "line": {
             "colorbar": {
              "outlinewidth": 0,
              "ticks": ""
             }
            },
            "type": "parcoords"
           }
          ],
          "pie": [
           {
            "automargin": true,
            "type": "pie"
           }
          ],
          "scatter": [
           {
            "fillpattern": {
             "fillmode": "overlay",
             "size": 10,
             "solidity": 0.2
            },
            "type": "scatter"
           }
          ],
          "scatter3d": [
           {
            "line": {
             "colorbar": {
              "outlinewidth": 0,
              "ticks": ""
             }
            },
            "marker": {
             "colorbar": {
              "outlinewidth": 0,
              "ticks": ""
             }
            },
            "type": "scatter3d"
           }
          ],
          "scattercarpet": [
           {
            "marker": {
             "colorbar": {
              "outlinewidth": 0,
              "ticks": ""
             }
            },
            "type": "scattercarpet"
           }
          ],
          "scattergeo": [
           {
            "marker": {
             "colorbar": {
              "outlinewidth": 0,
              "ticks": ""
             }
            },
            "type": "scattergeo"
           }
          ],
          "scattergl": [
           {
            "marker": {
             "colorbar": {
              "outlinewidth": 0,
              "ticks": ""
             }
            },
            "type": "scattergl"
           }
          ],
          "scattermapbox": [
           {
            "marker": {
             "colorbar": {
              "outlinewidth": 0,
              "ticks": ""
             }
            },
            "type": "scattermapbox"
           }
          ],
          "scatterpolar": [
           {
            "marker": {
             "colorbar": {
              "outlinewidth": 0,
              "ticks": ""
             }
            },
            "type": "scatterpolar"
           }
          ],
          "scatterpolargl": [
           {
            "marker": {
             "colorbar": {
              "outlinewidth": 0,
              "ticks": ""
             }
            },
            "type": "scatterpolargl"
           }
          ],
          "scatterternary": [
           {
            "marker": {
             "colorbar": {
              "outlinewidth": 0,
              "ticks": ""
             }
            },
            "type": "scatterternary"
           }
          ],
          "surface": [
           {
            "colorbar": {
             "outlinewidth": 0,
             "ticks": ""
            },
            "colorscale": [
             [
              0,
              "#0d0887"
             ],
             [
              0.1111111111111111,
              "#46039f"
             ],
             [
              0.2222222222222222,
              "#7201a8"
             ],
             [
              0.3333333333333333,
              "#9c179e"
             ],
             [
              0.4444444444444444,
              "#bd3786"
             ],
             [
              0.5555555555555556,
              "#d8576b"
             ],
             [
              0.6666666666666666,
              "#ed7953"
             ],
             [
              0.7777777777777778,
              "#fb9f3a"
             ],
             [
              0.8888888888888888,
              "#fdca26"
             ],
             [
              1,
              "#f0f921"
             ]
            ],
            "type": "surface"
           }
          ],
          "table": [
           {
            "cells": {
             "fill": {
              "color": "#EBF0F8"
             },
             "line": {
              "color": "white"
             }
            },
            "header": {
             "fill": {
              "color": "#C8D4E3"
             },
             "line": {
              "color": "white"
             }
            },
            "type": "table"
           }
          ]
         },
         "layout": {
          "annotationdefaults": {
           "arrowcolor": "#2a3f5f",
           "arrowhead": 0,
           "arrowwidth": 1
          },
          "autotypenumbers": "strict",
          "coloraxis": {
           "colorbar": {
            "outlinewidth": 0,
            "ticks": ""
           }
          },
          "colorscale": {
           "diverging": [
            [
             0,
             "#8e0152"
            ],
            [
             0.1,
             "#c51b7d"
            ],
            [
             0.2,
             "#de77ae"
            ],
            [
             0.3,
             "#f1b6da"
            ],
            [
             0.4,
             "#fde0ef"
            ],
            [
             0.5,
             "#f7f7f7"
            ],
            [
             0.6,
             "#e6f5d0"
            ],
            [
             0.7,
             "#b8e186"
            ],
            [
             0.8,
             "#7fbc41"
            ],
            [
             0.9,
             "#4d9221"
            ],
            [
             1,
             "#276419"
            ]
           ],
           "sequential": [
            [
             0,
             "#0d0887"
            ],
            [
             0.1111111111111111,
             "#46039f"
            ],
            [
             0.2222222222222222,
             "#7201a8"
            ],
            [
             0.3333333333333333,
             "#9c179e"
            ],
            [
             0.4444444444444444,
             "#bd3786"
            ],
            [
             0.5555555555555556,
             "#d8576b"
            ],
            [
             0.6666666666666666,
             "#ed7953"
            ],
            [
             0.7777777777777778,
             "#fb9f3a"
            ],
            [
             0.8888888888888888,
             "#fdca26"
            ],
            [
             1,
             "#f0f921"
            ]
           ],
           "sequentialminus": [
            [
             0,
             "#0d0887"
            ],
            [
             0.1111111111111111,
             "#46039f"
            ],
            [
             0.2222222222222222,
             "#7201a8"
            ],
            [
             0.3333333333333333,
             "#9c179e"
            ],
            [
             0.4444444444444444,
             "#bd3786"
            ],
            [
             0.5555555555555556,
             "#d8576b"
            ],
            [
             0.6666666666666666,
             "#ed7953"
            ],
            [
             0.7777777777777778,
             "#fb9f3a"
            ],
            [
             0.8888888888888888,
             "#fdca26"
            ],
            [
             1,
             "#f0f921"
            ]
           ]
          },
          "colorway": [
           "#636efa",
           "#EF553B",
           "#00cc96",
           "#ab63fa",
           "#FFA15A",
           "#19d3f3",
           "#FF6692",
           "#B6E880",
           "#FF97FF",
           "#FECB52"
          ],
          "font": {
           "color": "#2a3f5f"
          },
          "geo": {
           "bgcolor": "white",
           "lakecolor": "white",
           "landcolor": "#E5ECF6",
           "showlakes": true,
           "showland": true,
           "subunitcolor": "white"
          },
          "hoverlabel": {
           "align": "left"
          },
          "hovermode": "closest",
          "mapbox": {
           "style": "light"
          },
          "paper_bgcolor": "white",
          "plot_bgcolor": "#E5ECF6",
          "polar": {
           "angularaxis": {
            "gridcolor": "white",
            "linecolor": "white",
            "ticks": ""
           },
           "bgcolor": "#E5ECF6",
           "radialaxis": {
            "gridcolor": "white",
            "linecolor": "white",
            "ticks": ""
           }
          },
          "scene": {
           "xaxis": {
            "backgroundcolor": "#E5ECF6",
            "gridcolor": "white",
            "gridwidth": 2,
            "linecolor": "white",
            "showbackground": true,
            "ticks": "",
            "zerolinecolor": "white"
           },
           "yaxis": {
            "backgroundcolor": "#E5ECF6",
            "gridcolor": "white",
            "gridwidth": 2,
            "linecolor": "white",
            "showbackground": true,
            "ticks": "",
            "zerolinecolor": "white"
           },
           "zaxis": {
            "backgroundcolor": "#E5ECF6",
            "gridcolor": "white",
            "gridwidth": 2,
            "linecolor": "white",
            "showbackground": true,
            "ticks": "",
            "zerolinecolor": "white"
           }
          },
          "shapedefaults": {
           "line": {
            "color": "#2a3f5f"
           }
          },
          "ternary": {
           "aaxis": {
            "gridcolor": "white",
            "linecolor": "white",
            "ticks": ""
           },
           "baxis": {
            "gridcolor": "white",
            "linecolor": "white",
            "ticks": ""
           },
           "bgcolor": "#E5ECF6",
           "caxis": {
            "gridcolor": "white",
            "linecolor": "white",
            "ticks": ""
           }
          },
          "title": {
           "x": 0.05
          },
          "xaxis": {
           "automargin": true,
           "gridcolor": "white",
           "linecolor": "white",
           "ticks": "",
           "title": {
            "standoff": 15
           },
           "zerolinecolor": "white",
           "zerolinewidth": 2
          },
          "yaxis": {
           "automargin": true,
           "gridcolor": "white",
           "linecolor": "white",
           "ticks": "",
           "title": {
            "standoff": 15
           },
           "zerolinecolor": "white",
           "zerolinewidth": 2
          }
         }
        },
        "title": {
         "text": "Sex Ratio in the Data"
        }
       }
      }
     },
     "metadata": {},
     "output_type": "display_data"
    }
   ],
   "source": [
    "\n",
    "df['Sex'] = df['Sex'].astype(str)\n",
    "\n",
    "# Create a pie chart\n",
    "fig = px.pie(df, \n",
    "             names=\"Sex\", \n",
    "             title=\"Sex Ratio in the Data\", \n",
    "             color=\"Sex\", \n",
    "             color_discrete_map={\"M\": \"blue\", \"F\": \"red\"})  # Assign colors\n",
    "\n",
    "# Show the plot\n",
    "fig.show()\n"
   ]
  },
  {
   "cell_type": "code",
   "execution_count": 284,
   "metadata": {},
   "outputs": [
    {
     "data": {
      "application/vnd.plotly.v1+json": {
       "config": {
        "plotlyServerURL": "https://plot.ly"
       },
       "data": [
        {
         "alignmentgroup": "True",
         "bingroup": "x",
         "hovertemplate": "Sex=M<br>HeartDisease=%{x}<br>count=%{y}<extra></extra>",
         "legendgroup": "M",
         "marker": {
          "color": "blue",
          "pattern": {
           "shape": ""
          }
         },
         "name": "M",
         "offsetgroup": "M",
         "orientation": "v",
         "showlegend": true,
         "type": "histogram",
         "x": [
          0,
          0,
          0,
          0,
          0,
          1,
          1,
          0,
          1,
          1,
          1,
          1,
          0,
          1,
          0,
          0,
          0,
          0,
          0,
          1,
          0,
          1,
          1,
          0,
          1,
          0,
          0,
          1,
          0,
          0,
          0,
          0,
          1,
          1,
          0,
          1,
          1,
          0,
          1,
          0,
          0,
          1,
          0,
          1,
          0,
          1,
          0,
          1,
          1,
          0,
          1,
          0,
          1,
          0,
          0,
          1,
          0,
          1,
          1,
          1,
          1,
          0,
          0,
          1,
          1,
          0,
          0,
          0,
          0,
          1,
          0,
          1,
          1,
          0,
          0,
          0,
          0,
          1,
          0,
          0,
          1,
          1,
          0,
          0,
          0,
          0,
          0,
          1,
          1,
          1,
          1,
          0,
          1,
          1,
          1,
          1,
          1,
          0,
          0,
          0,
          0,
          1,
          0,
          0,
          0,
          0,
          0,
          1,
          1,
          0,
          1,
          0,
          1,
          1,
          0,
          0,
          1,
          1,
          0,
          0,
          0,
          0,
          0,
          0,
          0,
          1,
          1,
          1,
          0,
          0,
          1,
          0,
          1,
          0,
          1,
          0,
          1,
          1,
          0,
          0,
          0,
          0,
          0,
          0,
          1,
          0,
          0,
          0,
          0,
          0,
          0,
          1,
          0,
          1,
          1,
          0,
          1,
          1,
          0,
          0,
          0,
          1,
          0,
          0,
          1,
          0,
          1,
          0,
          0,
          0,
          0,
          0,
          1,
          1,
          1,
          1,
          0,
          1,
          1,
          1,
          0,
          1,
          1,
          1,
          1,
          1,
          1,
          0,
          0,
          1,
          0,
          0,
          1,
          1,
          1,
          0,
          1,
          0,
          1,
          0,
          1,
          0,
          0,
          1,
          1,
          0,
          1,
          0,
          0,
          0,
          0,
          0,
          0,
          1,
          1,
          1,
          1,
          1,
          1,
          1,
          1,
          0,
          1,
          1,
          1,
          0,
          1,
          1,
          0,
          1,
          1,
          1,
          0,
          1,
          1,
          1,
          1,
          1,
          1,
          1,
          1,
          1,
          1,
          0,
          1,
          1,
          1,
          1,
          1,
          0,
          1,
          1,
          1,
          0,
          1,
          1,
          1,
          1,
          1,
          1,
          1,
          1,
          1,
          1,
          1,
          1,
          1,
          1,
          1,
          1,
          1,
          1,
          1,
          1,
          1,
          1,
          1,
          1,
          1,
          1,
          0,
          1,
          1,
          1,
          1,
          1,
          1,
          1,
          1,
          1,
          1,
          1,
          1,
          1,
          1,
          1,
          1,
          1,
          1,
          1,
          1,
          1,
          1,
          1,
          1,
          1,
          1,
          1,
          1,
          1,
          1,
          1,
          1,
          1,
          1,
          1,
          1,
          1,
          1,
          1,
          1,
          1,
          1,
          1,
          1,
          1,
          1,
          0,
          1,
          1,
          0,
          0,
          1,
          0,
          1,
          1,
          0,
          1,
          1,
          1,
          1,
          0,
          1,
          1,
          0,
          0,
          1,
          1,
          1,
          0,
          1,
          1,
          1,
          1,
          1,
          1,
          1,
          1,
          1,
          1,
          1,
          1,
          1,
          0,
          1,
          0,
          1,
          1,
          1,
          0,
          1,
          1,
          1,
          0,
          1,
          0,
          1,
          1,
          0,
          1,
          1,
          1,
          1,
          0,
          1,
          0,
          1,
          1,
          1,
          1,
          1,
          1,
          1,
          1,
          1,
          0,
          1,
          0,
          1,
          1,
          1,
          1,
          1,
          1,
          0,
          1,
          1,
          1,
          1,
          1,
          1,
          0,
          1,
          1,
          1,
          0,
          1,
          1,
          0,
          1,
          0,
          1,
          1,
          0,
          1,
          1,
          1,
          1,
          0,
          1,
          1,
          1,
          0,
          0,
          1,
          0,
          1,
          1,
          1,
          1,
          1,
          1,
          1,
          1,
          1,
          1,
          1,
          0,
          1,
          1,
          1,
          0,
          1,
          1,
          1,
          0,
          1,
          0,
          1,
          1,
          0,
          1,
          0,
          1,
          1,
          1,
          0,
          0,
          0,
          1,
          1,
          1,
          0,
          1,
          1,
          1,
          1,
          1,
          1,
          1,
          1,
          1,
          1,
          1,
          1,
          1,
          1,
          1,
          1,
          0,
          1,
          1,
          1,
          0,
          1,
          1,
          0,
          0,
          1,
          1,
          1,
          1,
          1,
          0,
          1,
          1,
          0,
          1,
          1,
          1,
          0,
          1,
          1,
          1,
          1,
          0,
          1,
          0,
          1,
          1,
          1,
          0,
          0,
          1,
          1,
          1,
          0,
          0,
          0,
          1,
          1,
          1,
          0,
          0,
          1,
          0,
          0,
          0,
          1,
          1,
          0,
          1,
          1,
          1,
          1,
          1,
          0,
          0,
          1,
          0,
          0,
          1,
          0,
          1,
          1,
          1,
          1,
          0,
          1,
          1,
          0,
          0,
          0,
          1,
          0,
          1,
          1,
          0,
          1,
          0,
          0,
          1,
          1,
          1,
          0,
          0,
          0,
          0,
          0,
          1,
          0,
          1,
          1,
          1,
          1,
          0,
          1,
          1,
          1,
          1,
          1,
          0,
          1,
          0,
          0,
          1,
          1,
          1,
          1,
          1,
          0,
          1,
          0,
          1,
          1,
          0,
          1,
          0,
          1,
          0,
          1,
          0,
          1,
          0,
          1,
          1,
          1,
          1,
          1,
          0,
          1,
          0,
          0,
          1,
          0,
          1,
          0,
          0,
          1,
          0,
          1,
          1,
          0,
          1,
          1,
          1,
          0,
          0,
          1,
          0,
          0,
          1,
          0,
          1,
          0,
          1,
          0,
          1,
          0,
          1,
          0,
          1,
          1,
          1,
          1,
          0,
          0,
          1,
          0,
          1,
          0,
          1,
          0,
          0,
          0,
          0,
          1,
          1,
          0,
          1,
          0,
          0,
          1,
          0,
          1,
          0,
          1,
          0,
          0,
          1,
          0,
          1,
          1,
          1,
          1,
          1,
          0,
          1,
          0,
          0,
          0,
          1,
          1,
          0,
          1,
          1,
          0,
          1,
          0,
          0,
          0,
          1,
          0,
          1,
          1,
          1,
          0,
          1,
          1,
          0,
          0,
          1,
          1,
          0,
          0,
          0,
          1,
          1,
          1,
          0,
          1,
          1,
          1,
          1,
          0
         ],
         "xaxis": "x",
         "yaxis": "y"
        },
        {
         "alignmentgroup": "True",
         "bingroup": "x",
         "hovertemplate": "Sex=F<br>HeartDisease=%{x}<br>count=%{y}<extra></extra>",
         "legendgroup": "F",
         "marker": {
          "color": "red",
          "pattern": {
           "shape": ""
          }
         },
         "name": "F",
         "offsetgroup": "F",
         "orientation": "v",
         "showlegend": true,
         "type": "histogram",
         "x": [
          1,
          1,
          0,
          0,
          0,
          0,
          0,
          0,
          0,
          0,
          0,
          0,
          0,
          0,
          0,
          0,
          1,
          1,
          0,
          0,
          0,
          0,
          0,
          0,
          0,
          0,
          0,
          0,
          0,
          0,
          0,
          1,
          0,
          0,
          0,
          1,
          1,
          0,
          1,
          0,
          1,
          0,
          0,
          0,
          0,
          0,
          1,
          0,
          0,
          0,
          0,
          0,
          0,
          0,
          0,
          0,
          1,
          0,
          0,
          1,
          0,
          0,
          0,
          0,
          0,
          0,
          0,
          0,
          0,
          0,
          0,
          0,
          0,
          0,
          0,
          0,
          0,
          0,
          0,
          0,
          1,
          1,
          1,
          1,
          1,
          1,
          1,
          1,
          1,
          1,
          0,
          1,
          1,
          0,
          0,
          1,
          0,
          0,
          1,
          0,
          0,
          0,
          0,
          0,
          0,
          0,
          0,
          0,
          1,
          0,
          0,
          0,
          0,
          0,
          1,
          1,
          0,
          1,
          0,
          0,
          0,
          0,
          0,
          0,
          0,
          1,
          0,
          0,
          0,
          0,
          1,
          0,
          1,
          1,
          0,
          0,
          1,
          0,
          0,
          0,
          0,
          1,
          0,
          0,
          0,
          0,
          0,
          0,
          0,
          0,
          0,
          1,
          1,
          0,
          0,
          0,
          0,
          1,
          1,
          0,
          0,
          0,
          0,
          0,
          0,
          0,
          0,
          0,
          0,
          0,
          1,
          1,
          0,
          1,
          1,
          0,
          0,
          1,
          0,
          0,
          0,
          0,
          0,
          0,
          0,
          0,
          0,
          1,
          1,
          0,
          1,
          1,
          1
         ],
         "xaxis": "x",
         "yaxis": "y"
        }
       ],
       "layout": {
        "barmode": "group",
        "legend": {
         "title": {
          "text": "Sex"
         },
         "tracegroupgap": 0
        },
        "template": {
         "data": {
          "bar": [
           {
            "error_x": {
             "color": "#2a3f5f"
            },
            "error_y": {
             "color": "#2a3f5f"
            },
            "marker": {
             "line": {
              "color": "#E5ECF6",
              "width": 0.5
             },
             "pattern": {
              "fillmode": "overlay",
              "size": 10,
              "solidity": 0.2
             }
            },
            "type": "bar"
           }
          ],
          "barpolar": [
           {
            "marker": {
             "line": {
              "color": "#E5ECF6",
              "width": 0.5
             },
             "pattern": {
              "fillmode": "overlay",
              "size": 10,
              "solidity": 0.2
             }
            },
            "type": "barpolar"
           }
          ],
          "carpet": [
           {
            "aaxis": {
             "endlinecolor": "#2a3f5f",
             "gridcolor": "white",
             "linecolor": "white",
             "minorgridcolor": "white",
             "startlinecolor": "#2a3f5f"
            },
            "baxis": {
             "endlinecolor": "#2a3f5f",
             "gridcolor": "white",
             "linecolor": "white",
             "minorgridcolor": "white",
             "startlinecolor": "#2a3f5f"
            },
            "type": "carpet"
           }
          ],
          "choropleth": [
           {
            "colorbar": {
             "outlinewidth": 0,
             "ticks": ""
            },
            "type": "choropleth"
           }
          ],
          "contour": [
           {
            "colorbar": {
             "outlinewidth": 0,
             "ticks": ""
            },
            "colorscale": [
             [
              0,
              "#0d0887"
             ],
             [
              0.1111111111111111,
              "#46039f"
             ],
             [
              0.2222222222222222,
              "#7201a8"
             ],
             [
              0.3333333333333333,
              "#9c179e"
             ],
             [
              0.4444444444444444,
              "#bd3786"
             ],
             [
              0.5555555555555556,
              "#d8576b"
             ],
             [
              0.6666666666666666,
              "#ed7953"
             ],
             [
              0.7777777777777778,
              "#fb9f3a"
             ],
             [
              0.8888888888888888,
              "#fdca26"
             ],
             [
              1,
              "#f0f921"
             ]
            ],
            "type": "contour"
           }
          ],
          "contourcarpet": [
           {
            "colorbar": {
             "outlinewidth": 0,
             "ticks": ""
            },
            "type": "contourcarpet"
           }
          ],
          "heatmap": [
           {
            "colorbar": {
             "outlinewidth": 0,
             "ticks": ""
            },
            "colorscale": [
             [
              0,
              "#0d0887"
             ],
             [
              0.1111111111111111,
              "#46039f"
             ],
             [
              0.2222222222222222,
              "#7201a8"
             ],
             [
              0.3333333333333333,
              "#9c179e"
             ],
             [
              0.4444444444444444,
              "#bd3786"
             ],
             [
              0.5555555555555556,
              "#d8576b"
             ],
             [
              0.6666666666666666,
              "#ed7953"
             ],
             [
              0.7777777777777778,
              "#fb9f3a"
             ],
             [
              0.8888888888888888,
              "#fdca26"
             ],
             [
              1,
              "#f0f921"
             ]
            ],
            "type": "heatmap"
           }
          ],
          "heatmapgl": [
           {
            "colorbar": {
             "outlinewidth": 0,
             "ticks": ""
            },
            "colorscale": [
             [
              0,
              "#0d0887"
             ],
             [
              0.1111111111111111,
              "#46039f"
             ],
             [
              0.2222222222222222,
              "#7201a8"
             ],
             [
              0.3333333333333333,
              "#9c179e"
             ],
             [
              0.4444444444444444,
              "#bd3786"
             ],
             [
              0.5555555555555556,
              "#d8576b"
             ],
             [
              0.6666666666666666,
              "#ed7953"
             ],
             [
              0.7777777777777778,
              "#fb9f3a"
             ],
             [
              0.8888888888888888,
              "#fdca26"
             ],
             [
              1,
              "#f0f921"
             ]
            ],
            "type": "heatmapgl"
           }
          ],
          "histogram": [
           {
            "marker": {
             "pattern": {
              "fillmode": "overlay",
              "size": 10,
              "solidity": 0.2
             }
            },
            "type": "histogram"
           }
          ],
          "histogram2d": [
           {
            "colorbar": {
             "outlinewidth": 0,
             "ticks": ""
            },
            "colorscale": [
             [
              0,
              "#0d0887"
             ],
             [
              0.1111111111111111,
              "#46039f"
             ],
             [
              0.2222222222222222,
              "#7201a8"
             ],
             [
              0.3333333333333333,
              "#9c179e"
             ],
             [
              0.4444444444444444,
              "#bd3786"
             ],
             [
              0.5555555555555556,
              "#d8576b"
             ],
             [
              0.6666666666666666,
              "#ed7953"
             ],
             [
              0.7777777777777778,
              "#fb9f3a"
             ],
             [
              0.8888888888888888,
              "#fdca26"
             ],
             [
              1,
              "#f0f921"
             ]
            ],
            "type": "histogram2d"
           }
          ],
          "histogram2dcontour": [
           {
            "colorbar": {
             "outlinewidth": 0,
             "ticks": ""
            },
            "colorscale": [
             [
              0,
              "#0d0887"
             ],
             [
              0.1111111111111111,
              "#46039f"
             ],
             [
              0.2222222222222222,
              "#7201a8"
             ],
             [
              0.3333333333333333,
              "#9c179e"
             ],
             [
              0.4444444444444444,
              "#bd3786"
             ],
             [
              0.5555555555555556,
              "#d8576b"
             ],
             [
              0.6666666666666666,
              "#ed7953"
             ],
             [
              0.7777777777777778,
              "#fb9f3a"
             ],
             [
              0.8888888888888888,
              "#fdca26"
             ],
             [
              1,
              "#f0f921"
             ]
            ],
            "type": "histogram2dcontour"
           }
          ],
          "mesh3d": [
           {
            "colorbar": {
             "outlinewidth": 0,
             "ticks": ""
            },
            "type": "mesh3d"
           }
          ],
          "parcoords": [
           {
            "line": {
             "colorbar": {
              "outlinewidth": 0,
              "ticks": ""
             }
            },
            "type": "parcoords"
           }
          ],
          "pie": [
           {
            "automargin": true,
            "type": "pie"
           }
          ],
          "scatter": [
           {
            "fillpattern": {
             "fillmode": "overlay",
             "size": 10,
             "solidity": 0.2
            },
            "type": "scatter"
           }
          ],
          "scatter3d": [
           {
            "line": {
             "colorbar": {
              "outlinewidth": 0,
              "ticks": ""
             }
            },
            "marker": {
             "colorbar": {
              "outlinewidth": 0,
              "ticks": ""
             }
            },
            "type": "scatter3d"
           }
          ],
          "scattercarpet": [
           {
            "marker": {
             "colorbar": {
              "outlinewidth": 0,
              "ticks": ""
             }
            },
            "type": "scattercarpet"
           }
          ],
          "scattergeo": [
           {
            "marker": {
             "colorbar": {
              "outlinewidth": 0,
              "ticks": ""
             }
            },
            "type": "scattergeo"
           }
          ],
          "scattergl": [
           {
            "marker": {
             "colorbar": {
              "outlinewidth": 0,
              "ticks": ""
             }
            },
            "type": "scattergl"
           }
          ],
          "scattermapbox": [
           {
            "marker": {
             "colorbar": {
              "outlinewidth": 0,
              "ticks": ""
             }
            },
            "type": "scattermapbox"
           }
          ],
          "scatterpolar": [
           {
            "marker": {
             "colorbar": {
              "outlinewidth": 0,
              "ticks": ""
             }
            },
            "type": "scatterpolar"
           }
          ],
          "scatterpolargl": [
           {
            "marker": {
             "colorbar": {
              "outlinewidth": 0,
              "ticks": ""
             }
            },
            "type": "scatterpolargl"
           }
          ],
          "scatterternary": [
           {
            "marker": {
             "colorbar": {
              "outlinewidth": 0,
              "ticks": ""
             }
            },
            "type": "scatterternary"
           }
          ],
          "surface": [
           {
            "colorbar": {
             "outlinewidth": 0,
             "ticks": ""
            },
            "colorscale": [
             [
              0,
              "#0d0887"
             ],
             [
              0.1111111111111111,
              "#46039f"
             ],
             [
              0.2222222222222222,
              "#7201a8"
             ],
             [
              0.3333333333333333,
              "#9c179e"
             ],
             [
              0.4444444444444444,
              "#bd3786"
             ],
             [
              0.5555555555555556,
              "#d8576b"
             ],
             [
              0.6666666666666666,
              "#ed7953"
             ],
             [
              0.7777777777777778,
              "#fb9f3a"
             ],
             [
              0.8888888888888888,
              "#fdca26"
             ],
             [
              1,
              "#f0f921"
             ]
            ],
            "type": "surface"
           }
          ],
          "table": [
           {
            "cells": {
             "fill": {
              "color": "#EBF0F8"
             },
             "line": {
              "color": "white"
             }
            },
            "header": {
             "fill": {
              "color": "#C8D4E3"
             },
             "line": {
              "color": "white"
             }
            },
            "type": "table"
           }
          ]
         },
         "layout": {
          "annotationdefaults": {
           "arrowcolor": "#2a3f5f",
           "arrowhead": 0,
           "arrowwidth": 1
          },
          "autotypenumbers": "strict",
          "coloraxis": {
           "colorbar": {
            "outlinewidth": 0,
            "ticks": ""
           }
          },
          "colorscale": {
           "diverging": [
            [
             0,
             "#8e0152"
            ],
            [
             0.1,
             "#c51b7d"
            ],
            [
             0.2,
             "#de77ae"
            ],
            [
             0.3,
             "#f1b6da"
            ],
            [
             0.4,
             "#fde0ef"
            ],
            [
             0.5,
             "#f7f7f7"
            ],
            [
             0.6,
             "#e6f5d0"
            ],
            [
             0.7,
             "#b8e186"
            ],
            [
             0.8,
             "#7fbc41"
            ],
            [
             0.9,
             "#4d9221"
            ],
            [
             1,
             "#276419"
            ]
           ],
           "sequential": [
            [
             0,
             "#0d0887"
            ],
            [
             0.1111111111111111,
             "#46039f"
            ],
            [
             0.2222222222222222,
             "#7201a8"
            ],
            [
             0.3333333333333333,
             "#9c179e"
            ],
            [
             0.4444444444444444,
             "#bd3786"
            ],
            [
             0.5555555555555556,
             "#d8576b"
            ],
            [
             0.6666666666666666,
             "#ed7953"
            ],
            [
             0.7777777777777778,
             "#fb9f3a"
            ],
            [
             0.8888888888888888,
             "#fdca26"
            ],
            [
             1,
             "#f0f921"
            ]
           ],
           "sequentialminus": [
            [
             0,
             "#0d0887"
            ],
            [
             0.1111111111111111,
             "#46039f"
            ],
            [
             0.2222222222222222,
             "#7201a8"
            ],
            [
             0.3333333333333333,
             "#9c179e"
            ],
            [
             0.4444444444444444,
             "#bd3786"
            ],
            [
             0.5555555555555556,
             "#d8576b"
            ],
            [
             0.6666666666666666,
             "#ed7953"
            ],
            [
             0.7777777777777778,
             "#fb9f3a"
            ],
            [
             0.8888888888888888,
             "#fdca26"
            ],
            [
             1,
             "#f0f921"
            ]
           ]
          },
          "colorway": [
           "#636efa",
           "#EF553B",
           "#00cc96",
           "#ab63fa",
           "#FFA15A",
           "#19d3f3",
           "#FF6692",
           "#B6E880",
           "#FF97FF",
           "#FECB52"
          ],
          "font": {
           "color": "#2a3f5f"
          },
          "geo": {
           "bgcolor": "white",
           "lakecolor": "white",
           "landcolor": "#E5ECF6",
           "showlakes": true,
           "showland": true,
           "subunitcolor": "white"
          },
          "hoverlabel": {
           "align": "left"
          },
          "hovermode": "closest",
          "mapbox": {
           "style": "light"
          },
          "paper_bgcolor": "white",
          "plot_bgcolor": "#E5ECF6",
          "polar": {
           "angularaxis": {
            "gridcolor": "white",
            "linecolor": "white",
            "ticks": ""
           },
           "bgcolor": "#E5ECF6",
           "radialaxis": {
            "gridcolor": "white",
            "linecolor": "white",
            "ticks": ""
           }
          },
          "scene": {
           "xaxis": {
            "backgroundcolor": "#E5ECF6",
            "gridcolor": "white",
            "gridwidth": 2,
            "linecolor": "white",
            "showbackground": true,
            "ticks": "",
            "zerolinecolor": "white"
           },
           "yaxis": {
            "backgroundcolor": "#E5ECF6",
            "gridcolor": "white",
            "gridwidth": 2,
            "linecolor": "white",
            "showbackground": true,
            "ticks": "",
            "zerolinecolor": "white"
           },
           "zaxis": {
            "backgroundcolor": "#E5ECF6",
            "gridcolor": "white",
            "gridwidth": 2,
            "linecolor": "white",
            "showbackground": true,
            "ticks": "",
            "zerolinecolor": "white"
           }
          },
          "shapedefaults": {
           "line": {
            "color": "#2a3f5f"
           }
          },
          "ternary": {
           "aaxis": {
            "gridcolor": "white",
            "linecolor": "white",
            "ticks": ""
           },
           "baxis": {
            "gridcolor": "white",
            "linecolor": "white",
            "ticks": ""
           },
           "bgcolor": "#E5ECF6",
           "caxis": {
            "gridcolor": "white",
            "linecolor": "white",
            "ticks": ""
           }
          },
          "title": {
           "x": 0.05
          },
          "xaxis": {
           "automargin": true,
           "gridcolor": "white",
           "linecolor": "white",
           "ticks": "",
           "title": {
            "standoff": 15
           },
           "zerolinecolor": "white",
           "zerolinewidth": 2
          },
          "yaxis": {
           "automargin": true,
           "gridcolor": "white",
           "linecolor": "white",
           "ticks": "",
           "title": {
            "standoff": 15
           },
           "zerolinecolor": "white",
           "zerolinewidth": 2
          }
         }
        },
        "title": {
         "text": "Distribution of Heart Diseases"
        },
        "xaxis": {
         "anchor": "y",
         "domain": [
          0,
          1
         ],
         "title": {
          "text": "HeartDisease"
         }
        },
        "yaxis": {
         "anchor": "x",
         "domain": [
          0,
          1
         ],
         "title": {
          "text": "count"
         }
        }
       }
      }
     },
     "metadata": {},
     "output_type": "display_data"
    },
    {
     "name": "stdout",
     "output_type": "stream",
     "text": [
      "The percentage of males with Heart Disease is: 90.16%\n",
      "The percentage of females with Heart Disease is: 9.84%\n"
     ]
    }
   ],
   "source": [
    "# Create a histogram for the distribution of Heart Disease by Sex with custom colors\n",
    "fig = px.histogram(df, \n",
    "                   x=\"HeartDisease\", \n",
    "                   color=\"Sex\", \n",
    "                   hover_data=df.columns, \n",
    "                   title=\"Distribution of Heart Diseases\", \n",
    "                   barmode=\"group\",\n",
    "                   color_discrete_map={\"M\": \"blue\", \"F\": \"red\"})  # Blue for M and Red for F\n",
    "\n",
    "# Show the plot\n",
    "fig.show()\n",
    "\n",
    "# Print the percentage of males and females with Heart Disease\n",
    "print(f\"The percentage of males with Heart Disease is: {male_percentage:.2f}%\")\n",
    "print(f\"The percentage of females with Heart Disease is: {female_percentage:.2f}%\")"
   ]
  },
  {
   "cell_type": "code",
   "execution_count": 285,
   "metadata": {},
   "outputs": [
    {
     "data": {
      "application/vnd.plotly.v1+json": {
       "config": {
        "plotlyServerURL": "https://plot.ly"
       },
       "data": [
        {
         "alignmentgroup": "True",
         "bingroup": "x",
         "hovertemplate": "HeartDisease=0<br>Age=%{x}<br>count=%{y}<extra></extra>",
         "legendgroup": "0",
         "marker": {
          "color": "#636efa",
          "pattern": {
           "shape": ""
          }
         },
         "name": "0",
         "offsetgroup": "0",
         "orientation": "v",
         "showlegend": true,
         "type": "histogram",
         "x": [
          40,
          37,
          54,
          39,
          45,
          54,
          48,
          37,
          39,
          42,
          54,
          43,
          43,
          44,
          49,
          40,
          36,
          53,
          52,
          53,
          51,
          56,
          43,
          32,
          41,
          48,
          48,
          54,
          35,
          52,
          59,
          37,
          50,
          36,
          45,
          41,
          52,
          51,
          54,
          49,
          43,
          45,
          50,
          37,
          45,
          32,
          44,
          44,
          44,
          46,
          35,
          52,
          55,
          54,
          52,
          53,
          55,
          49,
          39,
          52,
          39,
          43,
          39,
          56,
          41,
          51,
          57,
          48,
          34,
          50,
          39,
          59,
          47,
          38,
          49,
          35,
          52,
          46,
          58,
          54,
          34,
          48,
          54,
          42,
          38,
          61,
          43,
          39,
          53,
          39,
          42,
          43,
          50,
          39,
          48,
          40,
          55,
          41,
          49,
          54,
          47,
          42,
          52,
          48,
          58,
          58,
          29,
          40,
          53,
          49,
          59,
          37,
          46,
          51,
          46,
          54,
          58,
          50,
          46,
          50,
          48,
          45,
          41,
          62,
          49,
          42,
          57,
          47,
          46,
          42,
          31,
          56,
          50,
          35,
          28,
          56,
          56,
          30,
          54,
          55,
          29,
          48,
          33,
          55,
          53,
          41,
          37,
          37,
          40,
          38,
          41,
          54,
          39,
          55,
          43,
          54,
          61,
          62,
          53,
          55,
          36,
          51,
          55,
          46,
          54,
          54,
          34,
          47,
          45,
          32,
          55,
          45,
          59,
          57,
          54,
          60,
          51,
          55,
          42,
          51,
          59,
          53,
          48,
          36,
          48,
          47,
          53,
          55,
          53,
          65,
          53,
          45,
          38,
          72,
          56,
          44,
          66,
          66,
          60,
          56,
          62,
          63,
          60,
          74,
          60,
          59,
          41,
          51,
          42,
          63,
          56,
          62,
          51,
          55,
          65,
          58,
          51,
          40,
          60,
          35,
          63,
          64,
          55,
          45,
          61,
          57,
          61,
          48,
          68,
          62,
          53,
          75,
          54,
          54,
          59,
          41,
          69,
          37,
          63,
          58,
          55,
          57,
          68,
          51,
          62,
          58,
          67,
          64,
          74,
          65,
          59,
          53,
          44,
          57,
          71,
          64,
          40,
          48,
          43,
          47,
          54,
          48,
          46,
          51,
          71,
          66,
          37,
          42,
          48,
          62,
          44,
          46,
          58,
          52,
          65,
          63,
          45,
          41,
          60,
          57,
          44,
          60,
          63,
          51,
          44,
          57,
          70,
          76,
          67,
          45,
          39,
          42,
          56,
          41,
          57,
          42,
          62,
          59,
          41,
          59,
          66,
          64,
          50,
          44,
          49,
          51,
          45,
          41,
          54,
          42,
          49,
          66,
          65,
          54,
          54,
          52,
          52,
          42,
          54,
          46,
          67,
          34,
          57,
          59,
          51,
          41,
          41,
          50,
          54,
          64,
          51,
          46,
          45,
          56,
          55,
          43,
          64,
          50,
          53,
          45,
          69,
          68,
          34,
          50,
          42,
          42,
          53,
          43,
          52,
          62,
          54,
          54,
          48,
          55,
          58,
          54,
          69,
          68,
          52,
          60,
          58,
          37,
          51,
          43,
          29,
          41,
          63,
          51,
          54,
          44,
          57,
          35,
          41,
          58,
          52,
          45,
          62,
          53,
          47,
          52,
          39,
          53,
          51,
          65,
          44,
          51,
          59,
          71,
          61,
          43,
          58,
          49,
          52,
          44,
          56,
          57,
          53,
          52,
          64,
          66,
          39,
          58,
          47,
          35,
          58,
          56,
          56,
          55,
          41,
          38
         ],
         "xaxis": "x",
         "yaxis": "y"
        },
        {
         "alignmentgroup": "True",
         "bingroup": "x",
         "hovertemplate": "HeartDisease=1<br>Age=%{x}<br>count=%{y}<extra></extra>",
         "legendgroup": "1",
         "marker": {
          "color": "#EF553B",
          "pattern": {
           "shape": ""
          }
         },
         "name": "1",
         "offsetgroup": "1",
         "orientation": "v",
         "showlegend": true,
         "type": "histogram",
         "x": [
          49,
          48,
          37,
          58,
          49,
          38,
          60,
          36,
          44,
          53,
          54,
          41,
          65,
          54,
          43,
          41,
          50,
          47,
          31,
          58,
          52,
          46,
          52,
          57,
          52,
          55,
          32,
          49,
          63,
          56,
          66,
          65,
          43,
          48,
          58,
          65,
          40,
          40,
          46,
          57,
          33,
          38,
          59,
          34,
          47,
          58,
          46,
          56,
          56,
          49,
          54,
          43,
          52,
          50,
          47,
          56,
          54,
          56,
          38,
          44,
          59,
          49,
          46,
          50,
          52,
          43,
          54,
          52,
          52,
          58,
          41,
          53,
          53,
          35,
          54,
          48,
          50,
          47,
          39,
          46,
          51,
          50,
          38,
          41,
          55,
          48,
          48,
          54,
          55,
          48,
          54,
          48,
          45,
          49,
          44,
          48,
          55,
          46,
          59,
          47,
          52,
          54,
          55,
          51,
          52,
          49,
          65,
          32,
          61,
          50,
          57,
          51,
          47,
          60,
          53,
          62,
          51,
          51,
          55,
          58,
          57,
          60,
          41,
          34,
          74,
          57,
          56,
          61,
          68,
          59,
          63,
          38,
          62,
          46,
          42,
          59,
          52,
          60,
          60,
          56,
          40,
          51,
          62,
          63,
          63,
          64,
          43,
          64,
          61,
          52,
          51,
          69,
          59,
          48,
          69,
          36,
          53,
          43,
          56,
          58,
          55,
          67,
          46,
          53,
          38,
          53,
          62,
          47,
          56,
          56,
          64,
          61,
          68,
          57,
          63,
          60,
          66,
          63,
          59,
          61,
          73,
          47,
          65,
          70,
          50,
          60,
          50,
          43,
          38,
          54,
          61,
          42,
          53,
          55,
          61,
          51,
          70,
          61,
          38,
          57,
          38,
          62,
          58,
          52,
          61,
          50,
          51,
          65,
          52,
          47,
          35,
          57,
          62,
          59,
          53,
          62,
          54,
          56,
          56,
          54,
          66,
          63,
          60,
          55,
          65,
          60,
          60,
          59,
          62,
          63,
          57,
          63,
          46,
          58,
          64,
          63,
          52,
          69,
          51,
          60,
          56,
          55,
          54,
          77,
          63,
          55,
          52,
          64,
          60,
          58,
          61,
          40,
          61,
          57,
          63,
          59,
          59,
          55,
          62,
          53,
          68,
          53,
          60,
          59,
          61,
          57,
          56,
          58,
          69,
          67,
          58,
          65,
          63,
          57,
          54,
          72,
          75,
          49,
          51,
          60,
          64,
          61,
          67,
          62,
          65,
          63,
          69,
          62,
          55,
          75,
          67,
          58,
          63,
          62,
          43,
          68,
          65,
          48,
          63,
          61,
          50,
          59,
          65,
          49,
          72,
          50,
          64,
          55,
          63,
          59,
          56,
          62,
          74,
          54,
          62,
          76,
          54,
          70,
          48,
          61,
          66,
          55,
          71,
          74,
          58,
          56,
          58,
          64,
          55,
          57,
          61,
          71,
          38,
          55,
          56,
          69,
          64,
          72,
          69,
          56,
          62,
          67,
          57,
          69,
          51,
          48,
          69,
          64,
          57,
          53,
          67,
          74,
          61,
          64,
          58,
          60,
          57,
          55,
          56,
          61,
          61,
          74,
          62,
          53,
          62,
          46,
          54,
          55,
          62,
          70,
          57,
          56,
          59,
          60,
          63,
          61,
          46,
          53,
          67,
          58,
          57,
          59,
          50,
          48,
          61,
          59,
          40,
          59,
          49,
          44,
          66,
          65,
          42,
          61,
          59,
          62,
          51,
          57,
          58,
          47,
          61,
          45,
          58,
          35,
          58,
          50,
          61,
          54,
          54,
          52,
          47,
          58,
          67,
          57,
          63,
          48,
          60,
          59,
          55,
          60,
          46,
          56,
          56,
          49,
          54,
          57,
          62,
          60,
          63,
          66,
          64,
          56,
          64,
          50,
          54,
          53,
          52,
          40,
          58,
          55,
          66,
          38,
          62,
          58,
          65,
          69,
          67,
          62,
          51,
          46,
          67,
          56,
          41,
          56,
          70,
          70,
          35,
          77,
          58,
          60,
          51,
          55,
          64,
          59,
          58,
          54,
          65,
          63,
          62,
          43,
          61,
          39,
          52,
          62,
          43,
          68,
          62,
          60,
          65,
          60,
          60,
          54,
          44,
          55,
          64,
          60,
          58,
          48,
          67,
          43,
          52,
          59,
          57,
          57,
          55,
          61,
          58,
          58,
          67,
          44,
          63,
          63,
          59,
          57,
          45,
          68,
          57,
          57
         ],
         "xaxis": "x",
         "yaxis": "y"
        }
       ],
       "layout": {
        "barmode": "relative",
        "legend": {
         "title": {
          "text": "HeartDisease"
         },
         "tracegroupgap": 0
        },
        "template": {
         "data": {
          "bar": [
           {
            "error_x": {
             "color": "#2a3f5f"
            },
            "error_y": {
             "color": "#2a3f5f"
            },
            "marker": {
             "line": {
              "color": "#E5ECF6",
              "width": 0.5
             },
             "pattern": {
              "fillmode": "overlay",
              "size": 10,
              "solidity": 0.2
             }
            },
            "type": "bar"
           }
          ],
          "barpolar": [
           {
            "marker": {
             "line": {
              "color": "#E5ECF6",
              "width": 0.5
             },
             "pattern": {
              "fillmode": "overlay",
              "size": 10,
              "solidity": 0.2
             }
            },
            "type": "barpolar"
           }
          ],
          "carpet": [
           {
            "aaxis": {
             "endlinecolor": "#2a3f5f",
             "gridcolor": "white",
             "linecolor": "white",
             "minorgridcolor": "white",
             "startlinecolor": "#2a3f5f"
            },
            "baxis": {
             "endlinecolor": "#2a3f5f",
             "gridcolor": "white",
             "linecolor": "white",
             "minorgridcolor": "white",
             "startlinecolor": "#2a3f5f"
            },
            "type": "carpet"
           }
          ],
          "choropleth": [
           {
            "colorbar": {
             "outlinewidth": 0,
             "ticks": ""
            },
            "type": "choropleth"
           }
          ],
          "contour": [
           {
            "colorbar": {
             "outlinewidth": 0,
             "ticks": ""
            },
            "colorscale": [
             [
              0,
              "#0d0887"
             ],
             [
              0.1111111111111111,
              "#46039f"
             ],
             [
              0.2222222222222222,
              "#7201a8"
             ],
             [
              0.3333333333333333,
              "#9c179e"
             ],
             [
              0.4444444444444444,
              "#bd3786"
             ],
             [
              0.5555555555555556,
              "#d8576b"
             ],
             [
              0.6666666666666666,
              "#ed7953"
             ],
             [
              0.7777777777777778,
              "#fb9f3a"
             ],
             [
              0.8888888888888888,
              "#fdca26"
             ],
             [
              1,
              "#f0f921"
             ]
            ],
            "type": "contour"
           }
          ],
          "contourcarpet": [
           {
            "colorbar": {
             "outlinewidth": 0,
             "ticks": ""
            },
            "type": "contourcarpet"
           }
          ],
          "heatmap": [
           {
            "colorbar": {
             "outlinewidth": 0,
             "ticks": ""
            },
            "colorscale": [
             [
              0,
              "#0d0887"
             ],
             [
              0.1111111111111111,
              "#46039f"
             ],
             [
              0.2222222222222222,
              "#7201a8"
             ],
             [
              0.3333333333333333,
              "#9c179e"
             ],
             [
              0.4444444444444444,
              "#bd3786"
             ],
             [
              0.5555555555555556,
              "#d8576b"
             ],
             [
              0.6666666666666666,
              "#ed7953"
             ],
             [
              0.7777777777777778,
              "#fb9f3a"
             ],
             [
              0.8888888888888888,
              "#fdca26"
             ],
             [
              1,
              "#f0f921"
             ]
            ],
            "type": "heatmap"
           }
          ],
          "heatmapgl": [
           {
            "colorbar": {
             "outlinewidth": 0,
             "ticks": ""
            },
            "colorscale": [
             [
              0,
              "#0d0887"
             ],
             [
              0.1111111111111111,
              "#46039f"
             ],
             [
              0.2222222222222222,
              "#7201a8"
             ],
             [
              0.3333333333333333,
              "#9c179e"
             ],
             [
              0.4444444444444444,
              "#bd3786"
             ],
             [
              0.5555555555555556,
              "#d8576b"
             ],
             [
              0.6666666666666666,
              "#ed7953"
             ],
             [
              0.7777777777777778,
              "#fb9f3a"
             ],
             [
              0.8888888888888888,
              "#fdca26"
             ],
             [
              1,
              "#f0f921"
             ]
            ],
            "type": "heatmapgl"
           }
          ],
          "histogram": [
           {
            "marker": {
             "pattern": {
              "fillmode": "overlay",
              "size": 10,
              "solidity": 0.2
             }
            },
            "type": "histogram"
           }
          ],
          "histogram2d": [
           {
            "colorbar": {
             "outlinewidth": 0,
             "ticks": ""
            },
            "colorscale": [
             [
              0,
              "#0d0887"
             ],
             [
              0.1111111111111111,
              "#46039f"
             ],
             [
              0.2222222222222222,
              "#7201a8"
             ],
             [
              0.3333333333333333,
              "#9c179e"
             ],
             [
              0.4444444444444444,
              "#bd3786"
             ],
             [
              0.5555555555555556,
              "#d8576b"
             ],
             [
              0.6666666666666666,
              "#ed7953"
             ],
             [
              0.7777777777777778,
              "#fb9f3a"
             ],
             [
              0.8888888888888888,
              "#fdca26"
             ],
             [
              1,
              "#f0f921"
             ]
            ],
            "type": "histogram2d"
           }
          ],
          "histogram2dcontour": [
           {
            "colorbar": {
             "outlinewidth": 0,
             "ticks": ""
            },
            "colorscale": [
             [
              0,
              "#0d0887"
             ],
             [
              0.1111111111111111,
              "#46039f"
             ],
             [
              0.2222222222222222,
              "#7201a8"
             ],
             [
              0.3333333333333333,
              "#9c179e"
             ],
             [
              0.4444444444444444,
              "#bd3786"
             ],
             [
              0.5555555555555556,
              "#d8576b"
             ],
             [
              0.6666666666666666,
              "#ed7953"
             ],
             [
              0.7777777777777778,
              "#fb9f3a"
             ],
             [
              0.8888888888888888,
              "#fdca26"
             ],
             [
              1,
              "#f0f921"
             ]
            ],
            "type": "histogram2dcontour"
           }
          ],
          "mesh3d": [
           {
            "colorbar": {
             "outlinewidth": 0,
             "ticks": ""
            },
            "type": "mesh3d"
           }
          ],
          "parcoords": [
           {
            "line": {
             "colorbar": {
              "outlinewidth": 0,
              "ticks": ""
             }
            },
            "type": "parcoords"
           }
          ],
          "pie": [
           {
            "automargin": true,
            "type": "pie"
           }
          ],
          "scatter": [
           {
            "fillpattern": {
             "fillmode": "overlay",
             "size": 10,
             "solidity": 0.2
            },
            "type": "scatter"
           }
          ],
          "scatter3d": [
           {
            "line": {
             "colorbar": {
              "outlinewidth": 0,
              "ticks": ""
             }
            },
            "marker": {
             "colorbar": {
              "outlinewidth": 0,
              "ticks": ""
             }
            },
            "type": "scatter3d"
           }
          ],
          "scattercarpet": [
           {
            "marker": {
             "colorbar": {
              "outlinewidth": 0,
              "ticks": ""
             }
            },
            "type": "scattercarpet"
           }
          ],
          "scattergeo": [
           {
            "marker": {
             "colorbar": {
              "outlinewidth": 0,
              "ticks": ""
             }
            },
            "type": "scattergeo"
           }
          ],
          "scattergl": [
           {
            "marker": {
             "colorbar": {
              "outlinewidth": 0,
              "ticks": ""
             }
            },
            "type": "scattergl"
           }
          ],
          "scattermapbox": [
           {
            "marker": {
             "colorbar": {
              "outlinewidth": 0,
              "ticks": ""
             }
            },
            "type": "scattermapbox"
           }
          ],
          "scatterpolar": [
           {
            "marker": {
             "colorbar": {
              "outlinewidth": 0,
              "ticks": ""
             }
            },
            "type": "scatterpolar"
           }
          ],
          "scatterpolargl": [
           {
            "marker": {
             "colorbar": {
              "outlinewidth": 0,
              "ticks": ""
             }
            },
            "type": "scatterpolargl"
           }
          ],
          "scatterternary": [
           {
            "marker": {
             "colorbar": {
              "outlinewidth": 0,
              "ticks": ""
             }
            },
            "type": "scatterternary"
           }
          ],
          "surface": [
           {
            "colorbar": {
             "outlinewidth": 0,
             "ticks": ""
            },
            "colorscale": [
             [
              0,
              "#0d0887"
             ],
             [
              0.1111111111111111,
              "#46039f"
             ],
             [
              0.2222222222222222,
              "#7201a8"
             ],
             [
              0.3333333333333333,
              "#9c179e"
             ],
             [
              0.4444444444444444,
              "#bd3786"
             ],
             [
              0.5555555555555556,
              "#d8576b"
             ],
             [
              0.6666666666666666,
              "#ed7953"
             ],
             [
              0.7777777777777778,
              "#fb9f3a"
             ],
             [
              0.8888888888888888,
              "#fdca26"
             ],
             [
              1,
              "#f0f921"
             ]
            ],
            "type": "surface"
           }
          ],
          "table": [
           {
            "cells": {
             "fill": {
              "color": "#EBF0F8"
             },
             "line": {
              "color": "white"
             }
            },
            "header": {
             "fill": {
              "color": "#C8D4E3"
             },
             "line": {
              "color": "white"
             }
            },
            "type": "table"
           }
          ]
         },
         "layout": {
          "annotationdefaults": {
           "arrowcolor": "#2a3f5f",
           "arrowhead": 0,
           "arrowwidth": 1
          },
          "autotypenumbers": "strict",
          "coloraxis": {
           "colorbar": {
            "outlinewidth": 0,
            "ticks": ""
           }
          },
          "colorscale": {
           "diverging": [
            [
             0,
             "#8e0152"
            ],
            [
             0.1,
             "#c51b7d"
            ],
            [
             0.2,
             "#de77ae"
            ],
            [
             0.3,
             "#f1b6da"
            ],
            [
             0.4,
             "#fde0ef"
            ],
            [
             0.5,
             "#f7f7f7"
            ],
            [
             0.6,
             "#e6f5d0"
            ],
            [
             0.7,
             "#b8e186"
            ],
            [
             0.8,
             "#7fbc41"
            ],
            [
             0.9,
             "#4d9221"
            ],
            [
             1,
             "#276419"
            ]
           ],
           "sequential": [
            [
             0,
             "#0d0887"
            ],
            [
             0.1111111111111111,
             "#46039f"
            ],
            [
             0.2222222222222222,
             "#7201a8"
            ],
            [
             0.3333333333333333,
             "#9c179e"
            ],
            [
             0.4444444444444444,
             "#bd3786"
            ],
            [
             0.5555555555555556,
             "#d8576b"
            ],
            [
             0.6666666666666666,
             "#ed7953"
            ],
            [
             0.7777777777777778,
             "#fb9f3a"
            ],
            [
             0.8888888888888888,
             "#fdca26"
            ],
            [
             1,
             "#f0f921"
            ]
           ],
           "sequentialminus": [
            [
             0,
             "#0d0887"
            ],
            [
             0.1111111111111111,
             "#46039f"
            ],
            [
             0.2222222222222222,
             "#7201a8"
            ],
            [
             0.3333333333333333,
             "#9c179e"
            ],
            [
             0.4444444444444444,
             "#bd3786"
            ],
            [
             0.5555555555555556,
             "#d8576b"
            ],
            [
             0.6666666666666666,
             "#ed7953"
            ],
            [
             0.7777777777777778,
             "#fb9f3a"
            ],
            [
             0.8888888888888888,
             "#fdca26"
            ],
            [
             1,
             "#f0f921"
            ]
           ]
          },
          "colorway": [
           "#636efa",
           "#EF553B",
           "#00cc96",
           "#ab63fa",
           "#FFA15A",
           "#19d3f3",
           "#FF6692",
           "#B6E880",
           "#FF97FF",
           "#FECB52"
          ],
          "font": {
           "color": "#2a3f5f"
          },
          "geo": {
           "bgcolor": "white",
           "lakecolor": "white",
           "landcolor": "#E5ECF6",
           "showlakes": true,
           "showland": true,
           "subunitcolor": "white"
          },
          "hoverlabel": {
           "align": "left"
          },
          "hovermode": "closest",
          "mapbox": {
           "style": "light"
          },
          "paper_bgcolor": "white",
          "plot_bgcolor": "#E5ECF6",
          "polar": {
           "angularaxis": {
            "gridcolor": "white",
            "linecolor": "white",
            "ticks": ""
           },
           "bgcolor": "#E5ECF6",
           "radialaxis": {
            "gridcolor": "white",
            "linecolor": "white",
            "ticks": ""
           }
          },
          "scene": {
           "xaxis": {
            "backgroundcolor": "#E5ECF6",
            "gridcolor": "white",
            "gridwidth": 2,
            "linecolor": "white",
            "showbackground": true,
            "ticks": "",
            "zerolinecolor": "white"
           },
           "yaxis": {
            "backgroundcolor": "#E5ECF6",
            "gridcolor": "white",
            "gridwidth": 2,
            "linecolor": "white",
            "showbackground": true,
            "ticks": "",
            "zerolinecolor": "white"
           },
           "zaxis": {
            "backgroundcolor": "#E5ECF6",
            "gridcolor": "white",
            "gridwidth": 2,
            "linecolor": "white",
            "showbackground": true,
            "ticks": "",
            "zerolinecolor": "white"
           }
          },
          "shapedefaults": {
           "line": {
            "color": "#2a3f5f"
           }
          },
          "ternary": {
           "aaxis": {
            "gridcolor": "white",
            "linecolor": "white",
            "ticks": ""
           },
           "baxis": {
            "gridcolor": "white",
            "linecolor": "white",
            "ticks": ""
           },
           "bgcolor": "#E5ECF6",
           "caxis": {
            "gridcolor": "white",
            "linecolor": "white",
            "ticks": ""
           }
          },
          "title": {
           "x": 0.05
          },
          "xaxis": {
           "automargin": true,
           "gridcolor": "white",
           "linecolor": "white",
           "ticks": "",
           "title": {
            "standoff": 15
           },
           "zerolinecolor": "white",
           "zerolinewidth": 2
          },
          "yaxis": {
           "automargin": true,
           "gridcolor": "white",
           "linecolor": "white",
           "ticks": "",
           "title": {
            "standoff": 15
           },
           "zerolinecolor": "white",
           "zerolinewidth": 2
          }
         }
        },
        "title": {
         "text": "Age distribution of people with and without HeartDisease"
        },
        "xaxis": {
         "anchor": "y",
         "domain": [
          0,
          1
         ],
         "title": {
          "text": "Age"
         }
        },
        "yaxis": {
         "anchor": "x",
         "domain": [
          0,
          1
         ],
         "title": {
          "text": "count"
         }
        }
       }
      }
     },
     "metadata": {},
     "output_type": "display_data"
    }
   ],
   "source": [
    "fig=px.histogram(df,\n",
    "                 x=\"Age\",\n",
    "                 color=\"HeartDisease\",\n",
    "                 hover_data=df.columns,\n",
    "                 title=\"Age distribution of people with and without HeartDisease\")\n",
    "fig.show()"
   ]
  },
  {
   "cell_type": "code",
   "execution_count": 286,
   "metadata": {},
   "outputs": [
    {
     "name": "stdout",
     "output_type": "stream",
     "text": [
      "Average Age (Heart Disease): 55.90 | Male: 55.87 | Female: 56.18\n",
      "Males with Heart Disease: 90.16% | Females: 9.84%\n",
      "RestingBP: 134.19, Cholesterol: 175.94, FastingBS: 0.33, MaxHR: 127.66\n",
      "Total Average: 109.53\n",
      "RestingBP Contribution: 122.51%\n",
      "Cholesterol Contribution: 160.63%\n",
      "FastingBS Contribution: 0.31%\n",
      "MaxHR Contribution: 116.55%\n"
     ]
    }
   ],
   "source": [
    "# Assuming 'df' is the DataFrame containing your data\n",
    "\n",
    "# Filter data where HeartDisease = 1\n",
    "df_heart_disease = df[df['HeartDisease'] == 1]\n",
    "\n",
    "# Calculate the total number of people with HeartDisease = 1\n",
    "total_heart_disease = len(df_heart_disease)\n",
    "\n",
    "# Separate the data into males and females\n",
    "df_male = df_heart_disease[df_heart_disease['Sex'] == 'M']\n",
    "df_female = df_heart_disease[df_heart_disease['Sex'] == 'F']\n",
    "\n",
    "# Calculate averages and percentages\n",
    "average_age = df_heart_disease['Age'].mean()\n",
    "average_age_male = df_male['Age'].mean()\n",
    "average_age_female = df_female['Age'].mean()\n",
    "\n",
    "male_percentage = (len(df_male) / total_heart_disease) * 100\n",
    "female_percentage = (len(df_female) / total_heart_disease) * 100\n",
    "\n",
    "mean_restingBP = df_heart_disease['RestingBP'].mean()\n",
    "mean_cholesterol = df_heart_disease['Cholesterol'].mean()\n",
    "mean_fastingBS = df_heart_disease['FastingBS'].mean()\n",
    "mean_maxHR = df_heart_disease['MaxHR'].mean()\n",
    "\n",
    "# Total average for percentage contribution calculation\n",
    "total_avg = (mean_restingBP + mean_cholesterol + mean_fastingBS + mean_maxHR) / 4\n",
    "\n",
    "# Print results\n",
    "print(f\"Average Age (Heart Disease): {average_age:.2f} | Male: {average_age_male:.2f} | Female: {average_age_female:.2f}\")\n",
    "print(f\"Males with Heart Disease: {male_percentage:.2f}% | Females: {female_percentage:.2f}%\")\n",
    "print(f\"RestingBP: {mean_restingBP:.2f}, Cholesterol: {mean_cholesterol:.2f}, FastingBS: {mean_fastingBS:.2f}, MaxHR: {mean_maxHR:.2f}\")\n",
    "print(f\"Total Average: {total_avg:.2f}\")\n",
    "print(f\"RestingBP Contribution: {((mean_restingBP / total_avg) * 100):.2f}%\")\n",
    "print(f\"Cholesterol Contribution: {((mean_cholesterol / total_avg) * 100):.2f}%\")\n",
    "print(f\"FastingBS Contribution: {((mean_fastingBS / total_avg) * 100):.2f}%\")\n",
    "print(f\"MaxHR Contribution: {((mean_maxHR / total_avg) * 100):.2f}%\")\n"
   ]
  },
  {
   "cell_type": "code",
   "execution_count": 287,
   "metadata": {},
   "outputs": [
    {
     "name": "stdout",
     "output_type": "stream",
     "text": [
      "Number of people with HeartDisease = 1 and ChestPainType = ATA: 24 (4.72%)\n",
      "Number of people with HeartDisease = 1 and ChestPainType = NAP: 72 (14.17%)\n",
      "Number of people with HeartDisease = 1 and ChestPainType = ASY: 392 (77.17%)\n"
     ]
    }
   ],
   "source": [
    "# Filter data where HeartDisease = 1\n",
    "df_heart_disease = df[df['HeartDisease'] == 1]\n",
    "\n",
    "# Calculate total number of people with HeartDisease = 1\n",
    "total_heart_disease = df_heart_disease.shape[0]\n",
    "\n",
    "# Count the occurrences of each ChestPainType (ATA, NAP, ASY) for people with HeartDisease = 1\n",
    "count_ATA = df_heart_disease[df_heart_disease['ChestPainType'] == 'ATA'].shape[0]\n",
    "count_NAP = df_heart_disease[df_heart_disease['ChestPainType'] == 'NAP'].shape[0]\n",
    "count_ASY = df_heart_disease[df_heart_disease['ChestPainType'] == 'ASY'].shape[0]\n",
    "\n",
    "# Calculate the percentages\n",
    "percentage_ATA = (count_ATA / total_heart_disease) * 100\n",
    "percentage_NAP = (count_NAP / total_heart_disease) * 100\n",
    "percentage_ASY = (count_ASY / total_heart_disease) * 100\n",
    "\n",
    "# Print the results with percentages\n",
    "print(f\"Number of people with HeartDisease = 1 and ChestPainType = ATA: {count_ATA} ({percentage_ATA:.2f}%)\")\n",
    "print(f\"Number of people with HeartDisease = 1 and ChestPainType = NAP: {count_NAP} ({percentage_NAP:.2f}%)\")\n",
    "print(f\"Number of people with HeartDisease = 1 and ChestPainType = ASY: {count_ASY} ({percentage_ASY:.2f}%)\")"
   ]
  },
  {
   "cell_type": "code",
   "execution_count": 288,
   "metadata": {},
   "outputs": [
    {
     "name": "stdout",
     "output_type": "stream",
     "text": [
      "The average age for people with Heart Disease is: 55.90\n",
      "The average age for males with Heart Disease is: 55.87\n",
      "The average age for females with Heart Disease is: 56.18\n",
      "Mean RestingBP for people with Heart Disease: 134.19\n",
      "Mean Cholesterol for people with Heart Disease: 175.94\n",
      "Mean FastingBS for people with Heart Disease: 0.33\n",
      "Mean MaxHR for people with Heart Disease: 127.66\n"
     ]
    }
   ],
   "source": [
    "# Filter data where HeartDisease = 1\n",
    "df_heart_disease = df[df['HeartDisease'] == 1]\n",
    "\n",
    "# Calculate the average age for those with HeartDisease = 1\n",
    "average_age = df_heart_disease['Age'].mean()\n",
    "\n",
    "\n",
    "# Separate the data into males and females\n",
    "df_male = df_heart_disease[df_heart_disease['Sex'] == 'M']\n",
    "df_female = df_heart_disease[df_heart_disease['Sex'] == 'F']\n",
    "\n",
    "# Calculate the average age for males and females with HeartDisease = 1\n",
    "average_age_male = df_male['Age'].mean()\n",
    "average_age_female = df_female['Age'].mean()\n",
    "\n",
    "\n",
    "# Calculate the mean values for the relevant columns\n",
    "mean_restingBP = df_heart_disease['RestingBP'].mean()\n",
    "mean_cholesterol = df_heart_disease['Cholesterol'].mean()\n",
    "mean_fastingBS = df_heart_disease['FastingBS'].mean()\n",
    "mean_maxHR = df_heart_disease['MaxHR'].mean()\n",
    "\n",
    "# Print the average age\n",
    "print(f\"The average age for people with Heart Disease is: {average_age:.2f}\")\n",
    "print(f\"The average age for males with Heart Disease is: {average_age_male:.2f}\")\n",
    "print(f\"The average age for females with Heart Disease is: {average_age_female:.2f}\")\n",
    "\n",
    "# Print the results\n",
    "print(f\"Mean RestingBP for people with Heart Disease: {mean_restingBP:.2f}\")\n",
    "print(f\"Mean Cholesterol for people with Heart Disease: {mean_cholesterol:.2f}\")\n",
    "print(f\"Mean FastingBS for people with Heart Disease: {mean_fastingBS:.2f}\")\n",
    "print(f\"Mean MaxHR for people with Heart Disease: {mean_maxHR:.2f}\")"
   ]
  },
  {
   "cell_type": "code",
   "execution_count": 289,
   "metadata": {},
   "outputs": [],
   "source": [
    "\n",
    "\n",
    "from sklearn.preprocessing import LabelEncoder\n",
    "le = LabelEncoder()\n",
    "df1 = df.copy(deep = True)\n",
    "\n",
    "df1['Sex'] = le.fit_transform(df1['Sex'])\n",
    "df1['ChestPainType'] = le.fit_transform(df1['ChestPainType'])\n",
    "df1['RestingECG'] = le.fit_transform(df1['RestingECG'])\n",
    "df1['ExerciseAngina'] = le.fit_transform(df1['ExerciseAngina'])\n",
    "df1['ST_Slope'] = le.fit_transform(df1['ST_Slope'])\n",
    "\n"
   ]
  },
  {
   "cell_type": "code",
   "execution_count": 290,
   "metadata": {},
   "outputs": [
    {
     "data": {
      "image/png": "[encoded data removed]",
      "text/plain": [
       "<Figure size 640x480 with 1 Axes>"
      ]
     },
     "metadata": {},
     "output_type": "display_data"
    }
   ],
   "source": [
    "import matplotlib.pyplot as plt\n",
    "\n",
    "# Assuming 'df' is the DataFrame containing your data\n",
    "# Filter data for males and females\n",
    "df_male = df[df['Sex'] == 'M'].sort_values(by='Age')  # Sort males by Age\n",
    "df_female = df[df['Sex'] == 'F'].sort_values(by='Age')  # Sort females by Age\n",
    "\n",
    "# Create the figure and axis objects\n",
    "fig, ax = plt.subplots()\n",
    "\n",
    "# Plotting RestingBP vs Age for males\n",
    "ax.plot(df_male['Age'], df_male['RestingBP'], label='Male', color='blue', marker='o', linestyle='-', markersize=5)\n",
    "\n",
    "# Plotting RestingBP vs Age for females\n",
    "ax.plot(df_female['Age'], df_female['RestingBP'], label='Female', color='red', marker='x', linestyle='-', markersize=5)\n",
    "\n",
    "# Adding labels and title\n",
    "ax.set_xlabel('Age')\n",
    "ax.set_ylabel('Resting Blood Pressure (RestingBP)')\n",
    "ax.set_title('Resting Blood Pressure by Age and Sex')\n",
    "\n",
    "# Adding a legend\n",
    "ax.legend()\n",
    "\n",
    "# Display the plot\n",
    "plt.show()\n"
   ]
  },
  {
   "cell_type": "code",
   "execution_count": 291,
   "metadata": {},
   "outputs": [
    {
     "data": {
      "image/png": "[encoded data removed]",
      "text/plain": [
       "<Figure size 1000x1000 with 12 Axes>"
      ]
     },
     "metadata": {},
     "output_type": "display_data"
    }
   ],
   "source": [
    "plt.figure(figsize=(10,10))\n",
    "for i,col in enumerate(df.columns,1):\n",
    "    plt.subplot(4,3,i)\n",
    "    plt.title(f\"Distribution of {col} Data\")\n",
    "    sns.histplot(df[col],kde=True)\n",
    "    plt.tight_layout()\n",
    "    plt.plot()"
   ]
  },
  {
   "cell_type": "code",
   "execution_count": 292,
   "metadata": {},
   "outputs": [],
   "source": [
    "sex = data[data['HeartDisease'] == 1]['Sex'].value_counts()\n",
    "sex = [sex[0] / sum(sex) * 100, sex[1] / sum(sex) * 100]\n",
    "\n",
    "cp = data[data['HeartDisease'] == 1]['ChestPainType'].value_counts()\n",
    "cp = [cp[0] / sum(cp) * 100,cp[1] / sum(cp) * 100,cp[2] / sum(cp) * 100,cp[3] / sum(cp) * 100]\n",
    "\n",
    "fbs = data[data['HeartDisease'] == 1]['FastingBS'].value_counts()\n",
    "fbs = [fbs[0] / sum(fbs) * 100,fbs[1] / sum(fbs) * 100]\n",
    "\n",
    "restecg = data[data['HeartDisease'] == 1]['RestingECG'].value_counts()\n",
    "restecg = [restecg[0] / sum(restecg) * 100,restecg[1] / sum(restecg) * 100,restecg[2] / sum(restecg) * 100]\n",
    "\n",
    "exang = data[data['HeartDisease'] == 1]['ExerciseAngina'].value_counts()\n",
    "exang = [exang[0] / sum(exang) * 100,exang[1] / sum(exang) * 100]\n",
    "\n",
    "slope = data[data['HeartDisease'] == 1]['ST_Slope'].value_counts()\n",
    "slope = [slope[0] / sum(slope) * 100,slope[1] / sum(slope) * 100,slope[2] / sum(slope) * 100]"
   ]
  },
  {
   "cell_type": "code",
   "execution_count": 293,
   "metadata": {},
   "outputs": [
    {
     "data": {
      "image/png": "[encoded data removed]",
      "text/plain": [
       "<Figure size 1000x1000 with 6 Axes>"
      ]
     },
     "metadata": {},
     "output_type": "display_data"
    }
   ],
   "source": [
    "ax,fig = plt.subplots(nrows = 3,ncols = 2,figsize = (10,10))\n",
    "\n",
    "plt.subplot(3,2,1)\n",
    "plt.pie(sex,labels = ['Male','Female'],autopct='%1.1f%%',startangle = 0,explode = (0.1,0),colors = colors,\n",
    "        wedgeprops = {'edgecolor' : 'black','linewidth': 1,'antialiased' : True})\n",
    "plt.title('Sex');\n",
    "\n",
    "plt.subplot(3,2,2)\n",
    "plt.pie(cp,labels = ['ASY', 'NAP', 'ATA', 'TA'],autopct='%1.1f%%',startangle = 0,explode = (0,0.1,0.1,0.1),\n",
    "        wedgeprops = {'edgecolor' : 'black','linewidth': 1,'antialiased' : True})\n",
    "plt.title('ChestPainType');\n",
    "\n",
    "plt.subplot(3,2,3)\n",
    "plt.pie(fbs,labels = ['FBS < 100 mg/dl','FBS > 100 mg/dl'],autopct='%1.1f%%',startangle = 0,explode = (0.1,0),colors = colors,\n",
    "        wedgeprops = {'edgecolor' : 'black','linewidth': 1,'antialiased' : True})\n",
    "plt.title('FastingBS');\n",
    "\n",
    "plt.subplot(3,2,4)\n",
    "plt.pie(restecg,labels = ['Normal','ST','LVH'],autopct='%1.1f%%',startangle = 0,explode = (0,0.1,0.1),\n",
    "        wedgeprops = {'edgecolor' : 'black','linewidth': 1,'antialiased' : True})\n",
    "plt.title('RestingECG');\n",
    "\n",
    "plt.subplot(3,2,5)\n",
    "plt.pie(exang,labels = ['Angina','No Angina'],autopct='%1.1f%%',startangle = 0,explode = (0.1,0),colors = colors,\n",
    "        wedgeprops = {'edgecolor' : 'black','linewidth': 1,'antialiased' : True})\n",
    "plt.title('ExerciseAngina');\n",
    "\n",
    "plt.subplot(3,2,6)\n",
    "plt.pie(slope,labels = ['Flat','Up','Down'],autopct='%1.1f%%',startangle = 0,explode = (0,0.1,0.1),\n",
    "        wedgeprops = {'edgecolor' : 'black','linewidth': 1,'antialiased' : True})\n",
    "plt.title('ST_Slope');"
   ]
  },
  {
   "cell_type": "code",
   "execution_count": 294,
   "metadata": {},
   "outputs": [
    {
     "data": {
      "image/png": "[encoded data removed]",
      "text/plain": [
       "<Figure size 640x480 with 1 Axes>"
      ]
     },
     "metadata": {},
     "output_type": "display_data"
    }
   ],
   "source": [
    "\n",
    "\n",
    "# Create the figure and axis objects\n",
    "fig, ax = plt.subplots()\n",
    "\n",
    "# Plotting RestingBP vs Age for males with HeartDisease\n",
    "ax.scatter(df_male['Age'], df_male['RestingBP'], color='blue', label=f'Male: {male_percentage:.2f}% (Avg Age: {average_age_male:.2f})', alpha=0.6)\n",
    "\n",
    "# Plotting RestingBP vs Age for females with HeartDisease\n",
    "ax.scatter(df_female['Age'], df_female['RestingBP'], color='red', label=f'Female: {female_percentage:.2f}% (Avg Age: {average_age_female:.2f})', alpha=0.6)\n",
    "\n",
    "# Adding labels and title\n",
    "ax.set_xlabel('Age')\n",
    "ax.set_ylabel('Resting Blood Pressure (RestingBP)')\n",
    "ax.set_title('Resting Blood Pressure by Age for People with Heart Disease')\n",
    "\n",
    "# Adding the average age lines (optional)\n",
    "ax.axvline(x=average_age_male, color='blue', linestyle='--', label=f'Male Avg Age: {average_age_male:.2f}')\n",
    "ax.axvline(x=average_age_female, color='red', linestyle='--', label=f'Female Avg Age: {average_age_female:.2f}')\n",
    "\n",
    "# Adding a legend\n",
    "ax.legend()\n",
    "\n",
    "# Display the plot\n",
    "plt.show()\n",
    "\n"
   ]
  },
  {
   "cell_type": "code",
   "execution_count": 295,
   "metadata": {},
   "outputs": [
    {
     "data": {
      "image/png": "[encoded data removed]",
      "text/plain": [
       "<Figure size 1000x600 with 1 Axes>"
      ]
     },
     "metadata": {},
     "output_type": "display_data"
    }
   ],
   "source": [
    "\n",
    "\n",
    "# Filter data for males and females with Heart Disease\n",
    "df_male_heart_disease = df[(df['Sex'] == 'M') & (df['HeartDisease'] == 1)]\n",
    "df_female_heart_disease = df[(df['Sex'] == 'F') & (df['HeartDisease'] == 1)]\n",
    "\n",
    "# Plot Age vs Cholesterol for males and females with Heart Disease\n",
    "plt.figure(figsize=(10, 6))\n",
    "\n",
    "# Plot males with blue\n",
    "plt.scatter(df_male_heart_disease['Age'], df_male_heart_disease['Cholesterol'], color='blue', alpha=0.7, label='Males')\n",
    "\n",
    "# Plot females with red\n",
    "plt.scatter(df_female_heart_disease['Age'], df_female_heart_disease['Cholesterol'], color='red', alpha=0.7, label='Females')\n",
    "\n",
    "# Title and labels\n",
    "plt.title('Age vs Cholesterol for Males and Females with Heart Disease')\n",
    "plt.xlabel('Age')\n",
    "plt.ylabel('Cholesterol')\n",
    "\n",
    "\n",
    "\n",
    "# Add legend\n",
    "plt.legend()\n",
    "\n",
    "# Show plot\n",
    "plt.show()\n"
   ]
  },
  {
   "cell_type": "code",
   "execution_count": 296,
   "metadata": {},
   "outputs": [
    {
     "data": {
      "image/png": "[encoded data removed]",
      "text/plain": [
       "<Figure size 1600x600 with 2 Axes>"
      ]
     },
     "metadata": {},
     "output_type": "display_data"
    }
   ],
   "source": [
    "\n",
    "\n",
    "# Filter data\n",
    "df_heart_disease_1 = df[df['HeartDisease'] == 1]\n",
    "df_heart_disease_0 = df[df['HeartDisease'] == 0]\n",
    "\n",
    "# Define custom color palette: Male ('M') = Blue, Female ('F') = Red\n",
    "custom_palette = {'M': 'blue', 'F': 'red'}\n",
    "\n",
    "# Create subplots\n",
    "fig, axes = plt.subplots(1, 2, figsize=(16, 6), sharey=True)\n",
    "\n",
    "# Plot for HeartDisease = 1\n",
    "sns.countplot(data=df_heart_disease_1, x='ExerciseAngina', hue='Sex', hue_order=['M', 'F'], palette=custom_palette, ax=axes[0])\n",
    "total_population_1 = len(df_heart_disease_1)\n",
    "\n",
    "for p in axes[0].patches:\n",
    "    height = p.get_height()\n",
    "    width = p.get_width()\n",
    "    x = p.get_x() + width / 2\n",
    "    y = p.get_y() + height\n",
    "    percentage = (height / total_population_1) * 100\n",
    "    axes[0].text(x, y + 2, f'{int(height)}\\n({percentage:.1f}%)', ha='center', fontsize=12)\n",
    "\n",
    "axes[0].set_title('ExerciseAngina vs People with HeartDisease', fontsize=14)\n",
    "axes[0].set_xlabel('Exercise Angina')\n",
    "axes[0].set_ylabel('Count')\n",
    "\n",
    "# Plot for HeartDisease = 0\n",
    "sns.countplot(data=df_heart_disease_0, x='ExerciseAngina', hue='Sex', hue_order=['M', 'F'], palette=custom_palette, ax=axes[1])\n",
    "total_population_0 = len(df_heart_disease_0)\n",
    "\n",
    "for p in axes[1].patches:\n",
    "    height = p.get_height()\n",
    "    width = p.get_width()\n",
    "    x = p.get_x() + width / 2\n",
    "    y = p.get_y() + height\n",
    "    percentage = (height / total_population_0) * 100\n",
    "    axes[1].text(x, y + 2, f'{int(height)}\\n({percentage:.1f}%)', ha='center', fontsize=12)\n",
    "\n",
    "axes[1].set_title('ExerciseAngina vs People with No HeartDisease', fontsize=14)\n",
    "axes[1].set_xlabel('Exercise Angina')\n",
    "\n",
    "# Show plot\n",
    "plt.tight_layout()\n",
    "plt.show()\n"
   ]
  }
 ],
 "metadata": {
  "kernelspec": {
   "display_name": "dsi_participant",
   "language": "python",
   "name": "python3"
  },
  "language_info": {
   "codemirror_mode": {
    "name": "ipython",
    "version": 3
   },
   "file_extension": ".py",
   "mimetype": "text/x-python",
   "name": "python",
   "nbconvert_exporter": "python",
   "pygments_lexer": "ipython3",
   "version": "3.9.20"
  }
 },
 "nbformat": 4,
 "nbformat_minor": 2
}
